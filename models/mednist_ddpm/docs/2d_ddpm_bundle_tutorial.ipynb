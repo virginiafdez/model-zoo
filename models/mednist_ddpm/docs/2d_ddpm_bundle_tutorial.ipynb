{
 "cells": [
  {
   "cell_type": "markdown",
   "id": "c54f5831-58eb-4f9e-bb8a-2c2a6536a658",
   "metadata": {},
   "source": [
    "# Denoising Diffusion Probabilistic Models with MedNIST Dataset Bundle \n",
    "\n",
    "This notebook discusses and uses the MONAI bundle it's included in for generating images from the MedNIST dataset using diffusion models. This is based off the 2d_ddpm_tutorial_ignite.ipynb notebook with a few changes.\n",
    "\n",
    "The bundle defines training and inference scripts whose use will be described here along with visualisations. The assumption with this notebook is that it's run within the bundle's `docs` directory and that the environment it runs in has `MONAI` and `GenerativeModels` installed. The command lines given are known to work in `bash` however may be problematic in Windows.\n",
    "\n",
    "First thing to do is import libraries and verify MONAI is present:"
   ]
  },
  {
   "cell_type": "code",
   "execution_count": 1,
   "id": "6d32f8a4-2bfe-4cfb-9abd-033b0c6080e6",
   "metadata": {},
   "outputs": [
    {
     "name": "stderr",
     "output_type": "stream",
     "text": [
      "/Users/virginia/PycharmProjects/model-zoo/.venv/lib/python3.9/site-packages/urllib3/__init__.py:35: NotOpenSSLWarning: urllib3 v2 only supports OpenSSL 1.1.1+, currently the 'ssl' module is compiled with 'LibreSSL 2.8.3'. See: https://github.com/urllib3/urllib3/issues/3020\n",
      "  warnings.warn(\n"
     ]
    },
    {
     "name": "stdout",
     "output_type": "stream",
     "text": [
      "MONAI version: 1.4.0\n",
      "Numpy version: 1.26.4\n",
      "Pytorch version: 2.5.1\n",
      "MONAI flags: HAS_EXT = False, USE_COMPILED = False, USE_META_DICT = False\n",
      "MONAI rev id: 46a5272196a6c2590ca2589029eed8e4d56ff008\n",
      "MONAI __file__: /Users/<username>/PycharmProjects/model-zoo/.venv/lib/python3.9/site-packages/monai/__init__.py\n",
      "\n",
      "Optional dependencies:\n",
      "Pytorch Ignite version: 0.5.1\n",
      "ITK version: NOT INSTALLED or UNKNOWN VERSION.\n",
      "Nibabel version: NOT INSTALLED or UNKNOWN VERSION.\n",
      "scikit-image version: NOT INSTALLED or UNKNOWN VERSION.\n",
      "scipy version: NOT INSTALLED or UNKNOWN VERSION.\n",
      "Pillow version: 11.1.0\n",
      "Tensorboard version: NOT INSTALLED or UNKNOWN VERSION.\n",
      "gdown version: NOT INSTALLED or UNKNOWN VERSION.\n",
      "TorchVision version: NOT INSTALLED or UNKNOWN VERSION.\n",
      "tqdm version: NOT INSTALLED or UNKNOWN VERSION.\n",
      "lmdb version: NOT INSTALLED or UNKNOWN VERSION.\n",
      "psutil version: 6.1.1\n",
      "pandas version: NOT INSTALLED or UNKNOWN VERSION.\n",
      "einops version: 0.8.0\n",
      "transformers version: NOT INSTALLED or UNKNOWN VERSION.\n",
      "mlflow version: NOT INSTALLED or UNKNOWN VERSION.\n",
      "pynrrd version: NOT INSTALLED or UNKNOWN VERSION.\n",
      "clearml version: NOT INSTALLED or UNKNOWN VERSION.\n",
      "\n",
      "For details about installing the optional dependencies, please visit:\n",
      "    https://docs.monai.io/en/latest/installation.html#installing-the-recommended-dependencies\n",
      "\n"
     ]
    }
   ],
   "source": [
    "import os\n",
    "import shutil\n",
    "import tempfile\n",
    "from pathlib import Path\n",
    "\n",
    "import torch\n",
    "\n",
    "import matplotlib.pyplot as plt\n",
    "import monai\n",
    "from monai.bundle import ConfigParser\n",
    "\n",
    "# path to the bundle directory, this assumes you're running the notebook in its directory\n",
    "bundle_root = str(Path(\".\").absolute().parent)\n",
    "\n",
    "monai.config.print_config()"
   ]
  },
  {
   "cell_type": "code",
   "execution_count": 2,
   "id": "d6fc6592-cb51-4527-97ee-add5d1cdbeb4",
   "metadata": {},
   "outputs": [
    {
     "name": "stdout",
     "output_type": "stream",
     "text": [
      "/var/folders/63/rn7xd75s2fbf1mytzldny6sc0000gp/T/tmpm5hzi_iw\n"
     ]
    }
   ],
   "source": [
    "directory = os.environ.get(\"MONAI_DATA_DIRECTORY\")\n",
    "dataset_dir = tempfile.mkdtemp() if directory is None else directory\n",
    "print(dataset_dir)"
   ]
  },
  {
   "cell_type": "markdown",
   "id": "678d2e51-dc2d-4ad9-a4c0-14a6f900398b",
   "metadata": {},
   "source": [
    "A bundle can be run on the command line using the Fire library or by parsing the configuration manually then getting parsed content objects. The following is the command to train the network for the default number of epochs. It will define values in the config files which need to be set for a particular run, such as the dataset directory created above, and setting the PYTHONPATH variable. The configuration for this bundle is split into 4 yaml files, one having common definitions for training and inference, one to enable multi-GPU training, and one each for training and inference. Their combinations determine what your final configuration is, in this case the common and train files produce a training script. "
   ]
  },
  {
   "cell_type": "code",
   "execution_count": null,
   "id": "d52a4ae9-0d6d-4bc4-a5b5-f84470711f2d",
   "metadata": {},
   "outputs": [
    {
     "name": "stdout",
     "output_type": "stream",
     "text": [
      "/Users/virginia/PycharmProjects/model-zoo/.venv/lib/python3.9/site-packages/urllib3/__init__.py:35: NotOpenSSLWarning: urllib3 v2 only supports OpenSSL 1.1.1+, currently the 'ssl' module is compiled with 'LibreSSL 2.8.3'. See: https://github.com/urllib3/urllib3/issues/3020\n",
      "  warnings.warn(\n",
      "2025-01-12 14:34:01,091 - INFO - --- input summary of monai.bundle.scripts.run ---\n",
      "2025-01-12 14:34:01,091 - INFO - > config_file: ('/Users/virginia/PycharmProjects/model-zoo/models/mednist_ddpm/configs/common.yaml',\n",
      " '/Users/virginia/PycharmProjects/model-zoo/models/mednist_ddpm/configs/train.yaml')\n",
      "2025-01-12 14:34:01,091 - INFO - > meta_file: '/Users/virginia/PycharmProjects/model-zoo/models/mednist_ddpm/configs/metadata.json'\n",
      "2025-01-12 14:34:01,091 - INFO - > logging_file: '/Users/virginia/PycharmProjects/model-zoo/models/mednist_ddpm/configs/logging.conf'\n",
      "2025-01-12 14:34:01,091 - INFO - > run_id: 'training'\n",
      "2025-01-12 14:34:01,091 - INFO - > bundle_root: '/Users/virginia/PycharmProjects/model-zoo/models/mednist_ddpm'\n",
      "2025-01-12 14:34:01,091 - INFO - > dataset_dir: '/var/folders/63/rn7xd75s2fbf1mytzldny6sc0000gp/T/tmpm5hzi_iw'\n",
      "2025-01-12 14:34:01,091 - INFO - ---\n",
      "\n",
      "\n",
      "2025-01-12 14:34:01,091 - INFO - Setting logging properties based on config: /Users/virginia/PycharmProjects/model-zoo/models/mednist_ddpm/configs/logging.conf.\n",
      "2025-01-12 14:34:25,955 - INFO - Downloaded: /var/folders/63/rn7xd75s2fbf1mytzldny6sc0000gp/T/tmpm5hzi_iw/MedNIST.tar.gz\n",
      "2025-01-12 14:34:26,066 - INFO - Verified 'MedNIST.tar.gz', md5: 0bc7306e7427e00ad1c5526a6677552d.\n",
      "2025-01-12 14:34:26,067 - INFO - Writing into directory: /var/folders/63/rn7xd75s2fbf1mytzldny6sc0000gp/T/tmpm5hzi_iw.\n",
      "2025-01-12 14:34:44,890 - INFO - Verified 'MedNIST.tar.gz', md5: 0bc7306e7427e00ad1c5526a6677552d.\n",
      "2025-01-12 14:34:44,890 - INFO - File exists: /var/folders/63/rn7xd75s2fbf1mytzldny6sc0000gp/T/tmpm5hzi_iw/MedNIST.tar.gz, skipped downloading.\n",
      "2025-01-12 14:34:44,890 - INFO - Non-empty folder exists in /var/folders/63/rn7xd75s2fbf1mytzldny6sc0000gp/T/tmpm5hzi_iw/MedNIST, skipped extracting.\n",
      "/Users/virginia/PycharmProjects/model-zoo/.venv/lib/python3.9/site-packages/monai/engines/trainer.py:54: FutureWarning: `torch.cuda.amp.GradScaler(args...)` is deprecated. Please use `torch.amp.GradScaler('cuda', args...)` instead.\n",
      "  self.scaler = torch.cuda.amp.GradScaler() if self.amp else None\n",
      "/Users/virginia/PycharmProjects/model-zoo/.venv/lib/python3.9/site-packages/torch/amp/grad_scaler.py:132: UserWarning: torch.cuda.amp.GradScaler is enabled, but CUDA is not available.  Disabling.\n",
      "  warnings.warn(\n",
      "2025-01-12 14:34:46,515 - ignite.engine.engine.SupervisedTrainer - INFO - Engine run resuming from iteration 0, epoch 0 until 75 epochs\n",
      "/Users/virginia/PycharmProjects/model-zoo/.venv/lib/python3.9/site-packages/urllib3/__init__.py:35: NotOpenSSLWarning: urllib3 v2 only supports OpenSSL 1.1.1+, currently the 'ssl' module is compiled with 'LibreSSL 2.8.3'. See: https://github.com/urllib3/urllib3/issues/3020\n",
      "  warnings.warn(\n",
      "/Users/virginia/PycharmProjects/model-zoo/.venv/lib/python3.9/site-packages/urllib3/__init__.py:35: NotOpenSSLWarning: urllib3 v2 only supports OpenSSL 1.1.1+, currently the 'ssl' module is compiled with 'LibreSSL 2.8.3'. See: https://github.com/urllib3/urllib3/issues/3020\n",
      "  warnings.warn(\n",
      "/Users/virginia/PycharmProjects/model-zoo/.venv/lib/python3.9/site-packages/urllib3/__init__.py:35: NotOpenSSLWarning: urllib3 v2 only supports OpenSSL 1.1.1+, currently the 'ssl' module is compiled with 'LibreSSL 2.8.3'. See: https://github.com/urllib3/urllib3/issues/3020\n",
      "  warnings.warn(\n",
      "/Users/virginia/PycharmProjects/model-zoo/.venv/lib/python3.9/site-packages/urllib3/__init__.py:35: NotOpenSSLWarning: urllib3 v2 only supports OpenSSL 1.1.1+, currently the 'ssl' module is compiled with 'LibreSSL 2.8.3'. See: https://github.com/urllib3/urllib3/issues/3020\n",
      "  warnings.warn(\n",
      "/Users/virginia/PycharmProjects/model-zoo/.venv/lib/python3.9/site-packages/monai/engines/trainer.py:257: FutureWarning: `torch.cuda.amp.autocast(args...)` is deprecated. Please use `torch.amp.autocast('cuda', args...)` instead.\n",
      "  with torch.cuda.amp.autocast(**engine.amp_kwargs):\n",
      "/Users/virginia/PycharmProjects/model-zoo/.venv/lib/python3.9/site-packages/torch/amp/autocast_mode.py:266: UserWarning: User provided device_type of 'cuda', but CUDA is not available. Disabling\n",
      "  warnings.warn(\n"
     ]
    }
   ],
   "source": [
    "# multiple config files need to be specified this way with '' quotes, variable used in command line must be in \"\" quotes\n",
    "configs=f\"'{bundle_root}/configs/common.yaml', '{bundle_root}/configs/train.yaml'\"\n",
    "\n",
    "!PYTHONPATH={bundle_root} python -m monai.bundle run training \\\n",
    "    --meta_file {bundle_root}/configs/metadata.json \\\n",
    "    --config_file \"{configs}\" \\\n",
    "    --logging_file {bundle_root}/configs/logging.conf \\\n",
    "    --bundle_root {bundle_root} \\\n",
    "    --dataset_dir {dataset_dir}"
   ]
  },
  {
   "cell_type": "markdown",
   "id": "5030732c-deb5-448a-b575-385bda0fa308",
   "metadata": {},
   "source": [
    "The test inference script can then be invoked as such to produce an output tensor saved to the given file with a randomly generated image. The `ckpt_path` value should point to the final checkpoint file created during the above training run, which will be in a subdirectory of `./result`. The training script's default behaviour is to create a new timestamped subdirectory in `./result` for every new run, this can be explicitly set by providing a `output_dir` value on the command line."
   ]
  },
  {
   "cell_type": "code",
   "execution_count": null,
   "id": "f53b40ee-11b7-4352-82ee-0dd7113220cf",
   "metadata": {},
   "outputs": [],
   "source": [
    "configs=f\"'{bundle_root}/configs/common.yaml', '{bundle_root}/configs/infer.yaml'\"\n",
    "\n",
    "!PYTHONPATH={bundle_root} python -m monai.bundle run testing \\\n",
    "    --meta_file {bundle_root}/configs/metadata.json \\\n",
    "    --config_file \"{configs}\" \\\n",
    "    --ckpt_path ./results/output_230215_174009/model_final_iteration=75000.pt \\\n",
    "    --bundle_root {bundle_root} \\\n",
    "    --out_file test.pt\n",
    "\n",
    "test = torch.load(\"test.pt\", map_location=\"cpu\")\n",
    "\n",
    "plt.imshow(test[0, 0], vmin=0, vmax=1, cmap=\"gray\"); plt.show()"
   ]
  },
  {
   "cell_type": "code",
   "execution_count": null,
   "id": "cf8438b3-4c7d-48c4-bb41-ed7def73753f",
   "metadata": {},
   "outputs": [],
   "source": [
    "import sys\n",
    "\n",
    "sys.path.append(bundle_root)  # make sure we load the script files we need\n",
    "\n",
    "# configure the parser from the bundle's information\n",
    "cp = ConfigParser()\n",
    "cp.read_meta(f\"{bundle_root}/configs/metadata.json\")\n",
    "cp.read_config([f\"{bundle_root}/configs/common.yaml\", f\"{bundle_root}/configs/infer.yaml\"])\n",
    "cp[\"bundle_root\"] = bundle_root\n",
    "cp[\"ckpt_path\"] = \"./results/output_230215_174009/model_final_iteration=75000.pt\"\n",
    "\n",
    "cp.get_parsed_content(\"load_state\")  # load the saved state from the checkpoint just be resolving this value\n",
    "\n",
    "device = cp.get_parsed_content(\"device\")  # device used by the bundle\n",
    "sample = cp.get_parsed_content(\"sample\")  # test sampling function\n",
    "\n",
    "image_dim = cp[\"image_dim\"]  # get the stored dimension value, no need to resolve anything\n",
    "\n",
    "noise = torch.rand(1, 1, image_dim, image_dim).to(device)  # or cp.get_parsed_content(\"noise\")\n",
    "\n",
    "test = sample(noise)\n",
    "\n",
    "plt.imshow(test[0, 0].cpu(), vmin=0, vmax=1, cmap=\"gray\")"
   ]
  },
  {
   "cell_type": "markdown",
   "id": "2feab4e5-2745-4d35-9eec-a2bb8340cf51",
   "metadata": {},
   "source": [
    "Multi-GPU can be enabled by including the `train_multigpu.yaml` configuration file:"
   ]
  },
  {
   "cell_type": "code",
   "execution_count": null,
   "id": "173cda1c-ac90-410f-b34d-b6cbb0044c7a",
   "metadata": {},
   "outputs": [],
   "source": [
    "configs=f\"'{bundle_root}/configs/common.yaml', '{bundle_root}/configs/train.yaml', '{bundle_root}/configs/train_multigpu.yaml'\"\n",
    "\n",
    "!PYTHONPATH={bundle_root} torchrun --standalone --nnodes=1 --nproc_per_node=2 -m monai.bundle run training \\\n",
    "    --meta_file {bundle_root}/configs/metadata.json \\\n",
    "    --config_file \"{configs}\" \\\n",
    "    --logging_file {bundle_root}/configs/logging.conf \\\n",
    "    --bundle_root {bundle_root} \\\n",
    "    --dataset_dir {dataset_dir}"
   ]
  },
  {
   "cell_type": "code",
   "execution_count": null,
   "id": "cb719023-8250-43c4-ab10-911829332498",
   "metadata": {},
   "outputs": [],
   "source": [
    "if directory is None:\n",
    "    shutil.rmtree(dataset_dir)"
   ]
  }
 ],
 "metadata": {
  "kernelspec": {
   "display_name": "Python 3 (ipykernel)",
   "language": "python",
   "name": "python3"
  },
  "language_info": {
   "codemirror_mode": {
    "name": "ipython",
    "version": 3
   },
   "file_extension": ".py",
   "mimetype": "text/x-python",
   "name": "python",
   "nbconvert_exporter": "python",
   "pygments_lexer": "ipython3",
   "version": "3.9.6"
  }
 },
 "nbformat": 4,
 "nbformat_minor": 5
}
