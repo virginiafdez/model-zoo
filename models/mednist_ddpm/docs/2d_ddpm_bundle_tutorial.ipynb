{
 "cells": [
  {
   "cell_type": "markdown",
   "id": "c54f5831-58eb-4f9e-bb8a-2c2a6536a658",
   "metadata": {},
   "source": [
    "# Denoising Diffusion Probabilistic Models with MedNIST Dataset Bundle \n",
    "\n",
    "This notebook discusses and uses the MONAI bundle it's included in for generating images from the MedNIST dataset using diffusion models. This is based off the 2d_ddpm_tutorial_ignite.ipynb notebook with a few changes.\n",
    "\n",
    "The bundle defines training and inference scripts whose use will be described here along with visualisations. The assumption with this notebook is that it's run within the bundle's `docs` directory and that the environment it runs in has `MONAI` installed. The command lines given are known to work in `bash` however may be problematic in Windows.\n",
    "\n",
    "Specifically, we train a diffusion model to generate X-Ray hands (drawn from the MedNIST dataset).\n",
    "\n",
    "First thing to do is import libraries and verify MONAI is present:"
   ]
  },
  {
   "cell_type": "code",
   "execution_count": 1,
   "id": "6d32f8a4-2bfe-4cfb-9abd-033b0c6080e6",
   "metadata": {},
   "outputs": [
    {
     "name": "stdout",
     "output_type": "stream",
     "text": [
      "MONAI version: 1.4.0\n",
      "Numpy version: 1.26.4\n",
      "Pytorch version: 2.5.1+cu124\n",
      "MONAI flags: HAS_EXT = False, USE_COMPILED = False, USE_META_DICT = False\n",
      "MONAI rev id: 46a5272196a6c2590ca2589029eed8e4d56ff008\n",
      "MONAI __file__: /data/PycharmProjects/monai-model-zoo/venv/lib/python3.10/site-packages/monai/__init__.py\n",
      "\n",
      "Optional dependencies:\n",
      "Pytorch Ignite version: 0.5.1\n",
      "ITK version: 5.4.0\n",
      "Nibabel version: 5.3.2\n",
      "scikit-image version: 0.25.0\n",
      "scipy version: 1.15.1\n",
      "Pillow version: 11.1.0\n",
      "Tensorboard version: 2.18.0\n",
      "gdown version: 5.2.0\n",
      "TorchVision version: NOT INSTALLED or UNKNOWN VERSION.\n",
      "tqdm version: 4.67.1\n",
      "lmdb version: NOT INSTALLED or UNKNOWN VERSION.\n",
      "psutil version: 6.1.1\n",
      "pandas version: 2.2.3\n",
      "einops version: 0.8.0\n",
      "transformers version: 4.48.0\n",
      "mlflow version: NOT INSTALLED or UNKNOWN VERSION.\n",
      "pynrrd version: NOT INSTALLED or UNKNOWN VERSION.\n",
      "clearml version: NOT INSTALLED or UNKNOWN VERSION.\n",
      "\n",
      "For details about installing the optional dependencies, please visit:\n",
      "    https://docs.monai.io/en/latest/installation.html#installing-the-recommended-dependencies\n",
      "\n"
     ]
    }
   ],
   "source": [
    "import os\n",
    "import shutil\n",
    "import tempfile\n",
    "from pathlib import Path\n",
    "\n",
    "import torch\n",
    "\n",
    "import matplotlib.pyplot as plt\n",
    "import monai\n",
    "from monai.bundle import ConfigParser\n",
    "\n",
    "# path to the bundle directory, this assumes you're running the notebook in its directory\n",
    "bundle_root = str(Path(\".\").absolute().parent)\n",
    "\n",
    "monai.config.print_config()"
   ]
  },
  {
   "cell_type": "code",
   "execution_count": 2,
   "id": "d6fc6592-cb51-4527-97ee-add5d1cdbeb4",
   "metadata": {},
   "outputs": [
    {
     "name": "stdout",
     "output_type": "stream",
     "text": [
      "/tmp/tmpdoc1dv_l\n"
     ]
    }
   ],
   "source": [
    "directory = os.environ.get(\"MONAI_DATA_DIRECTORY\")\n",
    "dataset_dir = tempfile.mkdtemp() if directory is None else directory\n",
    "print(dataset_dir)"
   ]
  },
  {
   "cell_type": "markdown",
   "id": "5721b12a-8474-435b-aac2-c0ed054fa618",
   "metadata": {},
   "source": [
    "### Training the diffusion model"
   ]
  },
  {
   "cell_type": "markdown",
   "id": "678d2e51-dc2d-4ad9-a4c0-14a6f900398b",
   "metadata": {},
   "source": [
    "A bundle can be run on the command line using the Fire library or by parsing the configuration manually then getting parsed content objects. The following is the command to train the network for the default number of epochs. It will define values in the config files which need to be set for a particular run, such as the dataset directory created above, and setting the PYTHONPATH variable. The configuration for this bundle is split into 3 yaml files, one each for training (train.yaml) and inference (inference.yaml), and one to enable multi-GPU training (train_multigpu.yaml) which can be combined with the others to enable distributed training."
   ]
  },
  {
   "cell_type": "code",
   "execution_count": 3,
   "id": "d52a4ae9-0d6d-4bc4-a5b5-f84470711f2d",
   "metadata": {
    "scrolled": true
   },
   "outputs": [
    {
     "name": "stdout",
     "output_type": "stream",
     "text": [
      "2025-01-28 10:45:10,893 - INFO - --- input summary of monai.bundle.scripts.run ---\n",
      "2025-01-28 10:45:10,894 - INFO - > config_file: '/data/PycharmProjects/monai-model-zoo/model-zoo/models/mednist_ddpm/configs/train.yaml'\n",
      "2025-01-28 10:45:10,894 - INFO - > meta_file: '/data/PycharmProjects/monai-model-zoo/model-zoo/models/mednist_ddpm/configs/metadata.json'\n",
      "2025-01-28 10:45:10,894 - INFO - > logging_file: '/data/PycharmProjects/monai-model-zoo/model-zoo/models/mednist_ddpm/configs/logging.conf'\n",
      "2025-01-28 10:45:10,895 - INFO - > run_id: 'training'\n",
      "2025-01-28 10:45:10,895 - INFO - > bundle_root: '/data/PycharmProjects/monai-model-zoo/model-zoo/models/mednist_ddpm'\n",
      "2025-01-28 10:45:10,895 - INFO - > dataset_dir: '/tmp/tmpdoc1dv_l'\n",
      "2025-01-28 10:45:10,895 - INFO - > output_dir: './outputs'\n",
      "2025-01-28 10:45:10,895 - INFO - ---\n",
      "\n",
      "\n",
      "2025-01-28 10:45:10,896 - INFO - Setting logging properties based on config: /data/PycharmProjects/monai-model-zoo/model-zoo/models/mednist_ddpm/configs/logging.conf.\n",
      "Detected deprecated name 'optional_packages_version' in configuration file, replacing with 'required_packages_version'.\n",
      "2025-01-28 10:45:16,858 - INFO - Downloaded: /tmp/tmpdoc1dv_l/MedNIST.tar.gz\n",
      "2025-01-28 10:45:16,933 - INFO - Verified 'MedNIST.tar.gz', md5: 0bc7306e7427e00ad1c5526a6677552d.\n",
      "2025-01-28 10:45:16,934 - INFO - Writing into directory: /tmp/tmpdoc1dv_l.\n",
      "2025-01-28 10:45:37,688 - INFO - Verified 'MedNIST.tar.gz', md5: 0bc7306e7427e00ad1c5526a6677552d.\n",
      "2025-01-28 10:45:37,688 - INFO - File exists: /tmp/tmpdoc1dv_l/MedNIST.tar.gz, skipped downloading.\n",
      "2025-01-28 10:45:37,688 - INFO - Non-empty folder exists in /tmp/tmpdoc1dv_l/MedNIST, skipped extracting.\n",
      "`torch.cuda.amp.GradScaler(args...)` is deprecated. Please use `torch.amp.GradScaler('cuda', args...)` instead.\n",
      "2025-01-28 10:45:39,645 - ignite.engine.engine.SupervisedTrainer - INFO - Engine run resuming from iteration 0, epoch 0 until 75 epochs\n",
      "`torch.cuda.amp.autocast(args...)` is deprecated. Please use `torch.amp.autocast('cuda', args...)` instead.\n",
      "2025-01-28 10:46:38,033 - ignite.engine.engine.SupervisedTrainer - INFO - Got new best metric of train_acc: 0.1607925146818161\n",
      "2025-01-28 10:46:38,034 - ignite.engine.engine.SupervisedTrainer - INFO - Epoch[1] Complete. Time taken: 00:00:58.388\n",
      "2025-01-28 10:47:29,911 - ignite.engine.engine.SupervisedTrainer - INFO - Got new best metric of train_acc: 0.016663629561662674\n",
      "2025-01-28 10:47:29,911 - ignite.engine.engine.SupervisedTrainer - INFO - Epoch[2] Complete. Time taken: 00:00:51.877\n",
      "2025-01-28 10:48:30,636 - ignite.engine.engine.SupervisedTrainer - INFO - Got new best metric of train_acc: 0.01578485034406185\n",
      "2025-01-28 10:48:30,637 - ignite.engine.engine.SupervisedTrainer - INFO - Epoch[3] Complete. Time taken: 00:01:00.725\n",
      "2025-01-28 10:49:23,157 - ignite.engine.engine.SupervisedTrainer - INFO - Got new best metric of train_acc: 0.013587715104222298\n",
      "2025-01-28 10:49:23,157 - ignite.engine.engine.SupervisedTrainer - INFO - Epoch[4] Complete. Time taken: 00:00:52.521\n",
      "2025-01-28 10:50:14,409 - ignite.engine.engine.SupervisedTrainer - INFO - Got new best metric of train_acc: 0.012479547411203384\n",
      "2025-01-28 10:50:14,410 - ignite.engine.engine.SupervisedEvaluator - INFO - Engine run resuming from iteration 0, epoch 4 until 5 epochs\n",
      "`torch.cuda.amp.autocast(args...)` is deprecated. Please use `torch.amp.autocast('cuda', args...)` instead.\n",
      "2025-01-28 10:50:17,861 - ignite.engine.engine.SupervisedEvaluator - INFO - Got new best metric of val_mean_abs_error: 0.05754538252949715\n",
      "2025-01-28 10:50:17,862 - INFO - Epoch[5] Metrics -- val_mean_abs_error: 0.0575 \n",
      "2025-01-28 10:50:17,862 - INFO - Key metric: val_mean_abs_error best value: 0.05754538252949715 at epoch: 5\n",
      "2025-01-28 10:50:17,862 - ignite.engine.engine.SupervisedEvaluator - INFO - Epoch[5] Complete. Time taken: 00:00:03.373\n",
      "2025-01-28 10:50:17,862 - ignite.engine.engine.SupervisedEvaluator - INFO - Engine run complete. Time taken: 00:00:03.452\n",
      "2025-01-28 10:50:17,933 - ignite.engine.engine.SupervisedTrainer - INFO - Saved checkpoint at epoch: 5\n",
      "2025-01-28 10:50:17,933 - ignite.engine.engine.SupervisedTrainer - INFO - Epoch[5] Complete. Time taken: 00:00:54.775\n",
      "2025-01-28 10:51:11,088 - ignite.engine.engine.SupervisedTrainer - INFO - Got new best metric of train_acc: 0.012240087613463402\n",
      "2025-01-28 10:51:11,088 - ignite.engine.engine.SupervisedTrainer - INFO - Epoch[6] Complete. Time taken: 00:00:53.155\n",
      "2025-01-28 10:52:04,514 - ignite.engine.engine.SupervisedTrainer - INFO - Epoch[7] Complete. Time taken: 00:00:53.427\n",
      "2025-01-28 10:52:57,317 - ignite.engine.engine.SupervisedTrainer - INFO - Epoch[8] Complete. Time taken: 00:00:52.803\n",
      "2025-01-28 10:53:49,711 - ignite.engine.engine.SupervisedTrainer - INFO - Got new best metric of train_acc: 0.01170545443892479\n",
      "2025-01-28 10:53:49,712 - ignite.engine.engine.SupervisedTrainer - INFO - Epoch[9] Complete. Time taken: 00:00:52.395\n",
      "2025-01-28 10:54:51,839 - ignite.engine.engine.SupervisedEvaluator - INFO - Engine run resuming from iteration 0, epoch 9 until 10 epochs\n",
      "2025-01-28 10:54:55,220 - ignite.engine.engine.SupervisedEvaluator - INFO - Got new best metric of val_mean_abs_error: 0.052069272845983505\n",
      "2025-01-28 10:54:55,220 - INFO - Epoch[10] Metrics -- val_mean_abs_error: 0.0521 \n",
      "2025-01-28 10:54:55,220 - INFO - Key metric: val_mean_abs_error best value: 0.052069272845983505 at epoch: 10\n",
      "2025-01-28 10:54:55,220 - ignite.engine.engine.SupervisedEvaluator - INFO - Epoch[10] Complete. Time taken: 00:00:03.381\n",
      "2025-01-28 10:54:55,220 - ignite.engine.engine.SupervisedEvaluator - INFO - Engine run complete. Time taken: 00:00:03.381\n",
      "2025-01-28 10:54:55,292 - ignite.engine.engine.SupervisedTrainer - INFO - Saved checkpoint at epoch: 10\n",
      "2025-01-28 10:54:55,292 - ignite.engine.engine.SupervisedTrainer - INFO - Epoch[10] Complete. Time taken: 00:01:05.580\n",
      "2025-01-28 10:55:49,249 - ignite.engine.engine.SupervisedTrainer - INFO - Got new best metric of train_acc: 0.011470048688352108\n",
      "2025-01-28 10:55:49,249 - ignite.engine.engine.SupervisedTrainer - INFO - Epoch[11] Complete. Time taken: 00:00:53.957\n",
      "2025-01-28 10:56:41,933 - ignite.engine.engine.SupervisedTrainer - INFO - Got new best metric of train_acc: 0.010766257531940937\n",
      "2025-01-28 10:56:41,933 - ignite.engine.engine.SupervisedTrainer - INFO - Epoch[12] Complete. Time taken: 00:00:52.684\n",
      "2025-01-28 10:57:32,681 - ignite.engine.engine.SupervisedTrainer - INFO - Epoch[13] Complete. Time taken: 00:00:50.748\n",
      "2025-01-28 10:58:22,006 - ignite.engine.engine.SupervisedTrainer - INFO - Got new best metric of train_acc: 0.010334153659641743\n",
      "2025-01-28 10:58:22,007 - ignite.engine.engine.SupervisedTrainer - INFO - Epoch[14] Complete. Time taken: 00:00:49.326\n",
      "2025-01-28 10:59:12,718 - ignite.engine.engine.SupervisedEvaluator - INFO - Engine run resuming from iteration 0, epoch 14 until 15 epochs\n",
      "2025-01-28 10:59:15,903 - ignite.engine.engine.SupervisedEvaluator - INFO - Got new best metric of val_mean_abs_error: 0.04713250324130058\n",
      "2025-01-28 10:59:15,903 - INFO - Epoch[15] Metrics -- val_mean_abs_error: 0.0471 \n",
      "2025-01-28 10:59:15,903 - INFO - Key metric: val_mean_abs_error best value: 0.04713250324130058 at epoch: 15\n",
      "2025-01-28 10:59:15,903 - ignite.engine.engine.SupervisedEvaluator - INFO - Epoch[15] Complete. Time taken: 00:00:03.184\n",
      "2025-01-28 10:59:15,903 - ignite.engine.engine.SupervisedEvaluator - INFO - Engine run complete. Time taken: 00:00:03.185\n",
      "2025-01-28 10:59:15,972 - ignite.engine.engine.SupervisedTrainer - INFO - Saved checkpoint at epoch: 15\n",
      "2025-01-28 10:59:15,972 - ignite.engine.engine.SupervisedTrainer - INFO - Epoch[15] Complete. Time taken: 00:00:53.966\n",
      "2025-01-28 11:00:05,379 - ignite.engine.engine.SupervisedTrainer - INFO - Got new best metric of train_acc: 0.010036583058536053\n",
      "2025-01-28 11:00:05,379 - ignite.engine.engine.SupervisedTrainer - INFO - Epoch[16] Complete. Time taken: 00:00:49.407\n",
      "2025-01-28 11:00:54,954 - ignite.engine.engine.SupervisedTrainer - INFO - Epoch[17] Complete. Time taken: 00:00:49.575\n",
      "2025-01-28 11:01:44,481 - ignite.engine.engine.SupervisedTrainer - INFO - Epoch[18] Complete. Time taken: 00:00:49.527\n",
      "2025-01-28 11:02:34,070 - ignite.engine.engine.SupervisedTrainer - INFO - Got new best metric of train_acc: 0.010024736635386944\n",
      "2025-01-28 11:02:34,070 - ignite.engine.engine.SupervisedTrainer - INFO - Epoch[19] Complete. Time taken: 00:00:49.590\n",
      "2025-01-28 11:03:24,598 - ignite.engine.engine.SupervisedEvaluator - INFO - Engine run resuming from iteration 0, epoch 19 until 20 epochs\n",
      "2025-01-28 11:03:28,013 - ignite.engine.engine.SupervisedEvaluator - INFO - Got new best metric of val_mean_abs_error: 0.04626006633043289\n",
      "2025-01-28 11:03:28,013 - INFO - Epoch[20] Metrics -- val_mean_abs_error: 0.0463 \n",
      "2025-01-28 11:03:28,013 - INFO - Key metric: val_mean_abs_error best value: 0.04626006633043289 at epoch: 20\n",
      "2025-01-28 11:03:28,013 - ignite.engine.engine.SupervisedEvaluator - INFO - Epoch[20] Complete. Time taken: 00:00:03.414\n",
      "2025-01-28 11:03:28,014 - ignite.engine.engine.SupervisedEvaluator - INFO - Engine run complete. Time taken: 00:00:03.415\n",
      "2025-01-28 11:03:28,373 - ignite.engine.engine.SupervisedTrainer - INFO - Saved checkpoint at epoch: 20\n",
      "2025-01-28 11:03:28,373 - ignite.engine.engine.SupervisedTrainer - INFO - Epoch[20] Complete. Time taken: 00:00:54.303\n",
      "2025-01-28 11:04:21,035 - ignite.engine.engine.SupervisedTrainer - INFO - Epoch[21] Complete. Time taken: 00:00:52.662\n",
      "2025-01-28 11:05:11,684 - ignite.engine.engine.SupervisedTrainer - INFO - Got new best metric of train_acc: 0.010010532103478909\n",
      "2025-01-28 11:05:11,684 - ignite.engine.engine.SupervisedTrainer - INFO - Epoch[22] Complete. Time taken: 00:00:50.648\n",
      "2025-01-28 11:06:00,999 - ignite.engine.engine.SupervisedTrainer - INFO - Got new best metric of train_acc: 0.0098584508523345\n",
      "2025-01-28 11:06:01,000 - ignite.engine.engine.SupervisedTrainer - INFO - Epoch[23] Complete. Time taken: 00:00:49.316\n",
      "2025-01-28 11:06:54,731 - ignite.engine.engine.SupervisedTrainer - INFO - Epoch[24] Complete. Time taken: 00:00:53.732\n",
      "2025-01-28 11:07:49,033 - ignite.engine.engine.SupervisedEvaluator - INFO - Engine run resuming from iteration 0, epoch 24 until 25 epochs\n",
      "2025-01-28 11:07:52,450 - INFO - Epoch[25] Metrics -- val_mean_abs_error: 0.0496 \n",
      "2025-01-28 11:07:52,450 - INFO - Key metric: val_mean_abs_error best value: 0.04626006633043289 at epoch: 20\n",
      "2025-01-28 11:07:52,450 - ignite.engine.engine.SupervisedEvaluator - INFO - Epoch[25] Complete. Time taken: 00:00:03.416\n",
      "2025-01-28 11:07:52,450 - ignite.engine.engine.SupervisedEvaluator - INFO - Engine run complete. Time taken: 00:00:03.417\n",
      "2025-01-28 11:07:52,809 - ignite.engine.engine.SupervisedTrainer - INFO - Saved checkpoint at epoch: 25\n",
      "2025-01-28 11:07:52,809 - ignite.engine.engine.SupervisedTrainer - INFO - Epoch[25] Complete. Time taken: 00:00:58.078\n",
      "2025-01-28 11:08:47,931 - ignite.engine.engine.SupervisedTrainer - INFO - Got new best metric of train_acc: 0.00983799621462822\n",
      "2025-01-28 11:08:47,931 - ignite.engine.engine.SupervisedTrainer - INFO - Epoch[26] Complete. Time taken: 00:00:55.122\n",
      "2025-01-28 11:09:40,163 - ignite.engine.engine.SupervisedTrainer - INFO - Got new best metric of train_acc: 0.009661602787673473\n",
      "2025-01-28 11:09:40,163 - ignite.engine.engine.SupervisedTrainer - INFO - Epoch[27] Complete. Time taken: 00:00:52.232\n",
      "2025-01-28 11:10:32,018 - ignite.engine.engine.SupervisedTrainer - INFO - Epoch[28] Complete. Time taken: 00:00:51.855\n",
      "2025-01-28 11:11:26,697 - ignite.engine.engine.SupervisedTrainer - INFO - Epoch[29] Complete. Time taken: 00:00:54.679\n",
      "2025-01-28 11:12:19,319 - ignite.engine.engine.SupervisedEvaluator - INFO - Engine run resuming from iteration 0, epoch 29 until 30 epochs\n",
      "2025-01-28 11:12:22,592 - INFO - Epoch[30] Metrics -- val_mean_abs_error: 0.0470 \n",
      "2025-01-28 11:12:22,592 - INFO - Key metric: val_mean_abs_error best value: 0.04626006633043289 at epoch: 20\n",
      "2025-01-28 11:12:22,592 - ignite.engine.engine.SupervisedEvaluator - INFO - Epoch[30] Complete. Time taken: 00:00:03.272\n",
      "2025-01-28 11:12:22,592 - ignite.engine.engine.SupervisedEvaluator - INFO - Engine run complete. Time taken: 00:00:03.273\n",
      "2025-01-28 11:12:22,649 - ignite.engine.engine.SupervisedTrainer - INFO - Saved checkpoint at epoch: 30\n",
      "2025-01-28 11:12:22,649 - ignite.engine.engine.SupervisedTrainer - INFO - Epoch[30] Complete. Time taken: 00:00:55.952\n",
      "2025-01-28 11:13:16,180 - ignite.engine.engine.SupervisedTrainer - INFO - Got new best metric of train_acc: 0.00965067371726036\n",
      "2025-01-28 11:13:16,180 - ignite.engine.engine.SupervisedTrainer - INFO - Epoch[31] Complete. Time taken: 00:00:53.531\n",
      "2025-01-28 11:14:10,456 - ignite.engine.engine.SupervisedTrainer - INFO - Got new best metric of train_acc: 0.009442757815122604\n",
      "2025-01-28 11:14:10,456 - ignite.engine.engine.SupervisedTrainer - INFO - Epoch[32] Complete. Time taken: 00:00:54.275\n",
      "2025-01-28 11:15:03,456 - ignite.engine.engine.SupervisedTrainer - INFO - Got new best metric of train_acc: 0.008967726491391659\n",
      "2025-01-28 11:15:03,456 - ignite.engine.engine.SupervisedTrainer - INFO - Epoch[33] Complete. Time taken: 00:00:53.000\n",
      "2025-01-28 11:15:55,835 - ignite.engine.engine.SupervisedTrainer - INFO - Epoch[34] Complete. Time taken: 00:00:52.379\n",
      "2025-01-28 11:16:47,540 - ignite.engine.engine.SupervisedEvaluator - INFO - Engine run resuming from iteration 0, epoch 34 until 35 epochs\n",
      "2025-01-28 11:16:50,823 - ignite.engine.engine.SupervisedEvaluator - INFO - Got new best metric of val_mean_abs_error: 0.04337985813617706\n",
      "2025-01-28 11:16:50,823 - INFO - Epoch[35] Metrics -- val_mean_abs_error: 0.0434 \n",
      "2025-01-28 11:16:50,823 - INFO - Key metric: val_mean_abs_error best value: 0.04337985813617706 at epoch: 35\n",
      "2025-01-28 11:16:50,823 - ignite.engine.engine.SupervisedEvaluator - INFO - Epoch[35] Complete. Time taken: 00:00:03.282\n",
      "2025-01-28 11:16:50,823 - ignite.engine.engine.SupervisedEvaluator - INFO - Engine run complete. Time taken: 00:00:03.283\n",
      "2025-01-28 11:16:50,894 - ignite.engine.engine.SupervisedTrainer - INFO - Saved checkpoint at epoch: 35\n",
      "2025-01-28 11:16:50,894 - ignite.engine.engine.SupervisedTrainer - INFO - Epoch[35] Complete. Time taken: 00:00:55.060\n",
      "2025-01-28 11:17:42,195 - ignite.engine.engine.SupervisedTrainer - INFO - Epoch[36] Complete. Time taken: 00:00:51.301\n",
      "2025-01-28 11:18:34,921 - ignite.engine.engine.SupervisedTrainer - INFO - Epoch[37] Complete. Time taken: 00:00:52.726\n",
      "2025-01-28 11:19:27,769 - ignite.engine.engine.SupervisedTrainer - INFO - Epoch[38] Complete. Time taken: 00:00:52.848\n",
      "2025-01-28 11:20:20,623 - ignite.engine.engine.SupervisedTrainer - INFO - Epoch[39] Complete. Time taken: 00:00:52.854\n",
      "2025-01-28 11:21:11,887 - ignite.engine.engine.SupervisedEvaluator - INFO - Engine run resuming from iteration 0, epoch 39 until 40 epochs\n",
      "2025-01-28 11:21:14,992 - INFO - Epoch[40] Metrics -- val_mean_abs_error: 0.0438 \n",
      "2025-01-28 11:21:14,992 - INFO - Key metric: val_mean_abs_error best value: 0.04337985813617706 at epoch: 35\n",
      "2025-01-28 11:21:14,992 - ignite.engine.engine.SupervisedEvaluator - INFO - Epoch[40] Complete. Time taken: 00:00:03.104\n",
      "2025-01-28 11:21:14,992 - ignite.engine.engine.SupervisedEvaluator - INFO - Engine run complete. Time taken: 00:00:03.105\n",
      "2025-01-28 11:21:15,062 - ignite.engine.engine.SupervisedTrainer - INFO - Saved checkpoint at epoch: 40\n",
      "2025-01-28 11:21:15,062 - ignite.engine.engine.SupervisedTrainer - INFO - Epoch[40] Complete. Time taken: 00:00:54.439\n",
      "2025-01-28 11:22:06,367 - ignite.engine.engine.SupervisedTrainer - INFO - Epoch[41] Complete. Time taken: 00:00:51.305\n",
      "2025-01-28 11:22:57,686 - ignite.engine.engine.SupervisedTrainer - INFO - Epoch[42] Complete. Time taken: 00:00:51.319\n",
      "2025-01-28 11:23:49,550 - ignite.engine.engine.SupervisedTrainer - INFO - Epoch[43] Complete. Time taken: 00:00:51.864\n",
      "2025-01-28 11:24:40,625 - ignite.engine.engine.SupervisedTrainer - INFO - Epoch[44] Complete. Time taken: 00:00:51.074\n",
      "2025-01-28 11:25:31,099 - ignite.engine.engine.SupervisedEvaluator - INFO - Engine run resuming from iteration 0, epoch 44 until 45 epochs\n",
      "2025-01-28 11:25:34,234 - ignite.engine.engine.SupervisedEvaluator - INFO - Got new best metric of val_mean_abs_error: 0.04306837171316147\n",
      "2025-01-28 11:25:34,234 - INFO - Epoch[45] Metrics -- val_mean_abs_error: 0.0431 \n",
      "2025-01-28 11:25:34,234 - INFO - Key metric: val_mean_abs_error best value: 0.04306837171316147 at epoch: 45\n",
      "2025-01-28 11:25:34,234 - ignite.engine.engine.SupervisedEvaluator - INFO - Epoch[45] Complete. Time taken: 00:00:03.135\n",
      "2025-01-28 11:25:34,235 - ignite.engine.engine.SupervisedEvaluator - INFO - Engine run complete. Time taken: 00:00:03.135\n",
      "2025-01-28 11:25:34,584 - ignite.engine.engine.SupervisedTrainer - INFO - Saved checkpoint at epoch: 45\n",
      "2025-01-28 11:25:34,585 - ignite.engine.engine.SupervisedTrainer - INFO - Epoch[45] Complete. Time taken: 00:00:53.960\n",
      "2025-01-28 11:26:24,509 - ignite.engine.engine.SupervisedTrainer - INFO - Epoch[46] Complete. Time taken: 00:00:49.924\n",
      "2025-01-28 11:27:13,455 - ignite.engine.engine.SupervisedTrainer - INFO - Epoch[47] Complete. Time taken: 00:00:48.945\n",
      "2025-01-28 11:28:03,014 - ignite.engine.engine.SupervisedTrainer - INFO - Epoch[48] Complete. Time taken: 00:00:49.559\n",
      "2025-01-28 11:28:52,035 - ignite.engine.engine.SupervisedTrainer - INFO - Epoch[49] Complete. Time taken: 00:00:49.021\n",
      "2025-01-28 11:29:41,226 - ignite.engine.engine.SupervisedEvaluator - INFO - Engine run resuming from iteration 0, epoch 49 until 50 epochs\n",
      "2025-01-28 11:29:44,269 - ignite.engine.engine.SupervisedEvaluator - INFO - Got new best metric of val_mean_abs_error: 0.0430283285677433\n",
      "2025-01-28 11:29:44,269 - INFO - Epoch[50] Metrics -- val_mean_abs_error: 0.0430 \n",
      "2025-01-28 11:29:44,269 - INFO - Key metric: val_mean_abs_error best value: 0.0430283285677433 at epoch: 50\n",
      "2025-01-28 11:29:44,269 - ignite.engine.engine.SupervisedEvaluator - INFO - Epoch[50] Complete. Time taken: 00:00:03.042\n",
      "2025-01-28 11:29:44,269 - ignite.engine.engine.SupervisedEvaluator - INFO - Engine run complete. Time taken: 00:00:03.043\n",
      "2025-01-28 11:29:44,628 - ignite.engine.engine.SupervisedTrainer - INFO - Saved checkpoint at epoch: 50\n",
      "2025-01-28 11:29:44,628 - ignite.engine.engine.SupervisedTrainer - INFO - Epoch[50] Complete. Time taken: 00:00:52.594\n",
      "2025-01-28 11:30:34,707 - ignite.engine.engine.SupervisedTrainer - INFO - Epoch[51] Complete. Time taken: 00:00:50.079\n",
      "2025-01-28 11:31:25,426 - ignite.engine.engine.SupervisedTrainer - INFO - Got new best metric of train_acc: 0.008929001167416573\n",
      "2025-01-28 11:31:25,426 - ignite.engine.engine.SupervisedTrainer - INFO - Epoch[52] Complete. Time taken: 00:00:50.719\n",
      "2025-01-28 11:32:17,793 - ignite.engine.engine.SupervisedTrainer - INFO - Got new best metric of train_acc: 0.008782487362623215\n",
      "2025-01-28 11:32:17,794 - ignite.engine.engine.SupervisedTrainer - INFO - Epoch[53] Complete. Time taken: 00:00:52.368\n",
      "2025-01-28 11:33:09,429 - ignite.engine.engine.SupervisedTrainer - INFO - Got new best metric of train_acc: 0.008487475104629993\n",
      "2025-01-28 11:33:09,429 - ignite.engine.engine.SupervisedTrainer - INFO - Epoch[54] Complete. Time taken: 00:00:51.636\n",
      "2025-01-28 11:34:00,926 - ignite.engine.engine.SupervisedEvaluator - INFO - Engine run resuming from iteration 0, epoch 54 until 55 epochs\n",
      "2025-01-28 11:34:04,209 - INFO - Epoch[55] Metrics -- val_mean_abs_error: 0.0439 \n",
      "2025-01-28 11:34:04,209 - INFO - Key metric: val_mean_abs_error best value: 0.0430283285677433 at epoch: 50\n",
      "2025-01-28 11:34:04,209 - ignite.engine.engine.SupervisedEvaluator - INFO - Epoch[55] Complete. Time taken: 00:00:03.283\n",
      "2025-01-28 11:34:04,209 - ignite.engine.engine.SupervisedEvaluator - INFO - Engine run complete. Time taken: 00:00:03.283\n",
      "2025-01-28 11:34:04,277 - ignite.engine.engine.SupervisedTrainer - INFO - Saved checkpoint at epoch: 55\n",
      "2025-01-28 11:34:04,277 - ignite.engine.engine.SupervisedTrainer - INFO - Epoch[55] Complete. Time taken: 00:00:54.848\n",
      "2025-01-28 11:34:55,848 - ignite.engine.engine.SupervisedTrainer - INFO - Epoch[56] Complete. Time taken: 00:00:51.571\n",
      "2025-01-28 11:35:47,270 - ignite.engine.engine.SupervisedTrainer - INFO - Epoch[57] Complete. Time taken: 00:00:51.422\n",
      "2025-01-28 11:36:37,430 - ignite.engine.engine.SupervisedTrainer - INFO - Epoch[58] Complete. Time taken: 00:00:50.160\n",
      "2025-01-28 11:37:27,691 - ignite.engine.engine.SupervisedTrainer - INFO - Epoch[59] Complete. Time taken: 00:00:50.261\n",
      "2025-01-28 11:38:19,228 - ignite.engine.engine.SupervisedEvaluator - INFO - Engine run resuming from iteration 0, epoch 59 until 60 epochs\n",
      "2025-01-28 11:38:22,427 - ignite.engine.engine.SupervisedEvaluator - INFO - Got new best metric of val_mean_abs_error: 0.041947875171899796\n",
      "2025-01-28 11:38:22,427 - INFO - Epoch[60] Metrics -- val_mean_abs_error: 0.0419 \n",
      "2025-01-28 11:38:22,427 - INFO - Key metric: val_mean_abs_error best value: 0.041947875171899796 at epoch: 60\n",
      "2025-01-28 11:38:22,427 - ignite.engine.engine.SupervisedEvaluator - INFO - Epoch[60] Complete. Time taken: 00:00:03.198\n",
      "2025-01-28 11:38:22,427 - ignite.engine.engine.SupervisedEvaluator - INFO - Engine run complete. Time taken: 00:00:03.198\n",
      "2025-01-28 11:38:22,785 - ignite.engine.engine.SupervisedTrainer - INFO - Saved checkpoint at epoch: 60\n",
      "2025-01-28 11:38:22,785 - ignite.engine.engine.SupervisedTrainer - INFO - Epoch[60] Complete. Time taken: 00:00:55.094\n",
      "2025-01-28 11:39:14,371 - ignite.engine.engine.SupervisedTrainer - INFO - Epoch[61] Complete. Time taken: 00:00:51.586\n",
      "2025-01-28 11:40:06,623 - ignite.engine.engine.SupervisedTrainer - INFO - Epoch[62] Complete. Time taken: 00:00:52.252\n",
      "2025-01-28 11:40:58,129 - ignite.engine.engine.SupervisedTrainer - INFO - Epoch[63] Complete. Time taken: 00:00:51.506\n",
      "2025-01-28 11:41:47,897 - ignite.engine.engine.SupervisedTrainer - INFO - Epoch[64] Complete. Time taken: 00:00:49.768\n",
      "2025-01-28 11:42:39,507 - ignite.engine.engine.SupervisedEvaluator - INFO - Engine run resuming from iteration 0, epoch 64 until 65 epochs\n",
      "2025-01-28 11:42:42,800 - ignite.engine.engine.SupervisedEvaluator - INFO - Got new best metric of val_mean_abs_error: 0.03936021775007248\n",
      "2025-01-28 11:42:42,800 - INFO - Epoch[65] Metrics -- val_mean_abs_error: 0.0394 \n",
      "2025-01-28 11:42:42,800 - INFO - Key metric: val_mean_abs_error best value: 0.03936021775007248 at epoch: 65\n",
      "2025-01-28 11:42:42,800 - ignite.engine.engine.SupervisedEvaluator - INFO - Epoch[65] Complete. Time taken: 00:00:03.292\n",
      "2025-01-28 11:42:42,800 - ignite.engine.engine.SupervisedEvaluator - INFO - Engine run complete. Time taken: 00:00:03.293\n",
      "2025-01-28 11:42:42,907 - ignite.engine.engine.SupervisedTrainer - INFO - Saved checkpoint at epoch: 65\n",
      "2025-01-28 11:42:42,907 - ignite.engine.engine.SupervisedTrainer - INFO - Epoch[65] Complete. Time taken: 00:00:55.010\n",
      "2025-01-28 11:43:34,027 - ignite.engine.engine.SupervisedTrainer - INFO - Epoch[66] Complete. Time taken: 00:00:51.120\n",
      "2025-01-28 11:44:23,357 - ignite.engine.engine.SupervisedTrainer - INFO - Epoch[67] Complete. Time taken: 00:00:49.330\n",
      "2025-01-28 11:45:15,222 - ignite.engine.engine.SupervisedTrainer - INFO - Epoch[68] Complete. Time taken: 00:00:51.865\n",
      "2025-01-28 11:46:05,380 - ignite.engine.engine.SupervisedTrainer - INFO - Epoch[69] Complete. Time taken: 00:00:50.158\n",
      "2025-01-28 11:46:54,867 - ignite.engine.engine.SupervisedEvaluator - INFO - Engine run resuming from iteration 0, epoch 69 until 70 epochs\n",
      "2025-01-28 11:46:58,033 - INFO - Epoch[70] Metrics -- val_mean_abs_error: 0.0419 \n",
      "2025-01-28 11:46:58,033 - INFO - Key metric: val_mean_abs_error best value: 0.03936021775007248 at epoch: 65\n",
      "2025-01-28 11:46:58,033 - ignite.engine.engine.SupervisedEvaluator - INFO - Epoch[70] Complete. Time taken: 00:00:03.165\n",
      "2025-01-28 11:46:58,033 - ignite.engine.engine.SupervisedEvaluator - INFO - Engine run complete. Time taken: 00:00:03.166\n",
      "2025-01-28 11:46:58,103 - ignite.engine.engine.SupervisedTrainer - INFO - Saved checkpoint at epoch: 70\n",
      "2025-01-28 11:46:58,104 - ignite.engine.engine.SupervisedTrainer - INFO - Epoch[70] Complete. Time taken: 00:00:52.723\n",
      "2025-01-28 11:47:48,003 - ignite.engine.engine.SupervisedTrainer - INFO - Epoch[71] Complete. Time taken: 00:00:49.899\n",
      "2025-01-28 11:48:39,114 - ignite.engine.engine.SupervisedTrainer - INFO - Epoch[72] Complete. Time taken: 00:00:51.111\n",
      "2025-01-28 11:49:28,678 - ignite.engine.engine.SupervisedTrainer - INFO - Epoch[73] Complete. Time taken: 00:00:49.564\n",
      "2025-01-28 11:50:20,176 - ignite.engine.engine.SupervisedTrainer - INFO - Epoch[74] Complete. Time taken: 00:00:51.498\n",
      "2025-01-28 11:51:10,599 - ignite.engine.engine.SupervisedTrainer - INFO - Got new best metric of train_acc: 0.008344327099621296\n",
      "2025-01-28 11:51:10,599 - ignite.engine.engine.SupervisedEvaluator - INFO - Engine run resuming from iteration 0, epoch 74 until 75 epochs\n",
      "2025-01-28 11:51:13,917 - INFO - Epoch[75] Metrics -- val_mean_abs_error: 0.0419 \n",
      "2025-01-28 11:51:13,918 - INFO - Key metric: val_mean_abs_error best value: 0.03936021775007248 at epoch: 65\n",
      "2025-01-28 11:51:13,918 - ignite.engine.engine.SupervisedEvaluator - INFO - Epoch[75] Complete. Time taken: 00:00:03.318\n",
      "2025-01-28 11:51:13,918 - ignite.engine.engine.SupervisedEvaluator - INFO - Engine run complete. Time taken: 00:00:03.319\n",
      "2025-01-28 11:51:13,990 - ignite.engine.engine.SupervisedTrainer - INFO - Saved checkpoint at epoch: 75\n",
      "2025-01-28 11:51:13,990 - ignite.engine.engine.SupervisedTrainer - INFO - Epoch[75] Complete. Time taken: 00:00:53.813\n",
      "2025-01-28 11:51:14,103 - ignite.engine.engine.SupervisedTrainer - INFO - Train completed, saved final checkpoint: outputs/model_final_iteration=75000.pt\n",
      "2025-01-28 11:51:14,103 - ignite.engine.engine.SupervisedTrainer - INFO - Engine run complete. Time taken: 01:05:34.457\n"
     ]
    }
   ],
   "source": [
    "# multiple config files need to be specified this way with '' quotes, variable used in command line must be in \"\" quotes\n",
    "configs=f\"{bundle_root}/configs/train.yaml\"\n",
    "!PYTHONPATH={bundle_root} python -m monai.bundle run training \\\n",
    "    --meta_file {bundle_root}/configs/metadata.json \\\n",
    "    --config_file \"{configs}\" \\\n",
    "    --logging_file {bundle_root}/configs/logging.conf \\\n",
    "    --bundle_root {bundle_root} \\\n",
    "    --dataset_dir {dataset_dir} \\\n",
    "    --output_dir './outputs'"
   ]
  },
  {
   "cell_type": "markdown",
   "id": "f872fccf-12af-43ef-bdb5-f49bc74119fa",
   "metadata": {},
   "source": [
    "### Test the diffusion model"
   ]
  },
  {
   "cell_type": "markdown",
   "id": "5030732c-deb5-448a-b575-385bda0fa308",
   "metadata": {},
   "source": [
    "The test inference script can then be invoked as such to produce an output tensor saved to the given file with a randomly generated image. The `ckpt_path` value should point to the final checkpoint file created during the above training run which will be in a subdirectory of `./results`. The training script's default behaviour is to create a new timestamped subdirectory in `./results` for every new run, this can be explicitly set by providing a `output_dir` value on the command line."
   ]
  },
  {
   "cell_type": "code",
   "execution_count": 4,
   "id": "40e6a3e9-3984-44b0-ba9a-5b8d58c7ea2d",
   "metadata": {},
   "outputs": [
    {
     "name": "stdout",
     "output_type": "stream",
     "text": [
      "2025-01-28 11:52:00,179 - INFO - --- input summary of monai.bundle.scripts.run ---\n",
      "2025-01-28 11:52:00,179 - INFO - > config_file: '/data/PycharmProjects/monai-model-zoo/model-zoo/models/mednist_ddpm/configs/inference.yaml'\n",
      "2025-01-28 11:52:00,179 - INFO - > meta_file: '/data/PycharmProjects/monai-model-zoo/model-zoo/models/mednist_ddpm/configs/metadata.json'\n",
      "2025-01-28 11:52:00,179 - INFO - > run_id: 'testing'\n",
      "2025-01-28 11:52:00,179 - INFO - > ckpt_path: './outputs/model_final_iteration=75000.pt'\n",
      "2025-01-28 11:52:00,179 - INFO - > bundle_root: '/data/PycharmProjects/monai-model-zoo/model-zoo/models/mednist_ddpm'\n",
      "2025-01-28 11:52:00,179 - INFO - > out_file: 'test.pt'\n",
      "2025-01-28 11:52:00,179 - INFO - ---\n",
      "\n",
      "\n",
      "2025-01-28 11:52:00,179 - INFO - Setting logging properties based on config: /data/PycharmProjects/monai-model-zoo/model-zoo/models/mednist_ddpm/configs/logging.conf.\n",
      "Detected deprecated name 'optional_packages_version' in configuration file, replacing with 'required_packages_version'.\n",
      "100%|██████████████████████████████████████| 1000/1000 [00:08<00:00, 113.53it/s]\n"
     ]
    },
    {
     "name": "stderr",
     "output_type": "stream",
     "text": [
      "You are using `torch.load` with `weights_only=False` (the current default value), which uses the default pickle module implicitly. It is possible to construct malicious pickle data which will execute arbitrary code during unpickling (See https://github.com/pytorch/pytorch/blob/main/SECURITY.md#untrusted-models for more details). In a future release, the default value for `weights_only` will be flipped to `True`. This limits the functions that could be executed during unpickling. Arbitrary objects will no longer be allowed to be loaded via this mode unless they are explicitly allowlisted by the user via `torch.serialization.add_safe_globals`. We recommend you start setting `weights_only=True` for any use case where you don't have full control of the loaded file. Please open an issue on GitHub for any issues related to this experimental feature.\n"
     ]
    },
    {
     "data": {
      "text/plain": [
       "<matplotlib.image.AxesImage at 0x7f5db4c46050>"
      ]
     },
     "execution_count": 4,
     "metadata": {},
     "output_type": "execute_result"
    },
    {
     "data": {
      "image/png": "[encoded data removed]",
      "text/plain": [
       "<Figure size 640x480 with 1 Axes>"
      ]
     },
     "metadata": {},
     "output_type": "display_data"
    }
   ],
   "source": [
    "configs=f\"{bundle_root}/configs/inference.yaml\"\n",
    "\n",
    "!PYTHONPATH={bundle_root} python -m monai.bundle run testing \\\n",
    "    --meta_file {bundle_root}/configs/metadata.json \\\n",
    "    --config_file \"{configs}\" \\\n",
    "    --ckpt_path \"./outputs/model_final_iteration=75000.pt\" \\\n",
    "    --bundle_root {bundle_root} \\\n",
    "    --out_file test.pt\n",
    "\n",
    "test = torch.load(\"test.pt\", map_location=\"cpu\")\n",
    "\n",
    "plt.imshow(test[0, 0], vmin=0.4, vmax=1.0, cmap=\"gray\")"
   ]
  },
  {
   "cell_type": "markdown",
   "id": "f581c36e-4033-4005-8969-76205470588e",
   "metadata": {},
   "source": [
    "The same can be done by creating the parser object, filling in its configuration, then resolving the Python objects from the constructed bundle data:"
   ]
  },
  {
   "cell_type": "code",
   "execution_count": 11,
   "id": "cf8438b3-4c7d-48c4-bb41-ed7def73753f",
   "metadata": {},
   "outputs": [
    {
     "name": "stderr",
     "output_type": "stream",
     "text": [
      "100%|███████████████████████████████████████████████████████████████████████████████████████████████████████████████████████████████████████████████████████████████████████████████████████████████████████████████████████████████| 1000/1000 [00:08<00:00, 122.14it/s]\n"
     ]
    },
    {
     "data": {
      "text/plain": [
       "<matplotlib.image.AxesImage at 0x7f5dac07b220>"
      ]
     },
     "execution_count": 11,
     "metadata": {},
     "output_type": "execute_result"
    },
    {
     "data": {
      "image/png": "[encoded data removed]",
      "text/plain": [
       "<Figure size 640x480 with 1 Axes>"
      ]
     },
     "metadata": {},
     "output_type": "display_data"
    }
   ],
   "source": [
    "import sys\n",
    "\n",
    "sys.path.append(bundle_root)  # make sure we load the script files we need\n",
    "\n",
    "# configure the parser from the bundle's information\n",
    "cp = ConfigParser()\n",
    "cp.read_meta(f\"{bundle_root}/configs/metadata.json\")\n",
    "cp.read_config([f\"{bundle_root}/configs/inference.yaml\"])\n",
    "cp[\"bundle_root\"] = bundle_root\n",
    "cp[\"ckpt_path\"] = f\"./outputs/model_final_iteration=75000.pt\"\n",
    "\n",
    "cp.get_parsed_content(\"load_state\")  # load the saved state from the checkpoint just be resolving this value\n",
    "\n",
    "device = cp.get_parsed_content(\"device\")  # device used by the bundle\n",
    "sample = cp.get_parsed_content(\"sample\")  # test sampling function\n",
    "\n",
    "image_dim = cp[\"image_dim\"]  # get the stored dimension value, no need to resolve anything\n",
    "\n",
    "noise = torch.rand(1, 1, image_dim, image_dim).to(device)  # or cp.get_parsed_content(\"noise\")\n",
    "\n",
    "test = sample(noise)\n",
    "\n",
    "plt.imshow(test[0, 0].cpu(), vmin=0.75, vmax=1, cmap=\"gray\") # Toggle vmin for more contrast"
   ]
  },
  {
   "cell_type": "markdown",
   "id": "2feab4e5-2745-4d35-9eec-a2bb8340cf51",
   "metadata": {},
   "source": [
    "Multi-GPU can be enabled by including the `train_multigpu.yaml` configuration file:"
   ]
  },
  {
   "cell_type": "code",
   "execution_count": null,
   "id": "173cda1c-ac90-410f-b34d-b6cbb0044c7a",
   "metadata": {},
   "outputs": [],
   "source": [
    "configs=f\"'{bundle_root}/configs/train.yaml', '{bundle_root}/configs/train_multigpu.yaml'\"\n",
    "\n",
    "!PYTHONPATH={bundle_root} torchrun --standalone --nnodes=1 --nproc_per_node=2 -m monai.bundle run training \\\n",
    "    --meta_file {bundle_root}/configs/metadata.json \\\n",
    "    --config_file \"{configs}\" \\\n",
    "    --logging_file {bundle_root}/configs/logging.conf \\\n",
    "    --bundle_root {bundle_root} \\\n",
    "    --dataset_dir {dataset_dir}"
   ]
  },
  {
   "cell_type": "code",
   "execution_count": null,
   "id": "cb719023-8250-43c4-ab10-911829332498",
   "metadata": {},
   "outputs": [],
   "source": [
    "if directory is None:\n",
    "    shutil.rmtree(dataset_dir)"
   ]
  }
 ],
 "metadata": {
  "kernelspec": {
   "display_name": "Python 3 (ipykernel)",
   "language": "python",
   "name": "python3"
  },
  "language_info": {
   "codemirror_mode": {
    "name": "ipython",
    "version": 3
   },
   "file_extension": ".py",
   "mimetype": "text/x-python",
   "name": "python",
   "nbconvert_exporter": "python",
   "pygments_lexer": "ipython3",
   "version": "3.10.16"
  }
 },
 "nbformat": 4,
 "nbformat_minor": 5
}
