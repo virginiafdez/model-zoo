{
 "cells": [
  {
   "cell_type": "markdown",
   "id": "c54f5831-58eb-4f9e-bb8a-2c2a6536a658",
   "metadata": {},
   "source": [
    "# Denoising Diffusion Probabilistic Models with MedNIST Dataset Bundle \n",
    "\n",
    "This notebook discusses and uses the MONAI bundle it's included in for generating images from the MedNIST dataset using diffusion models. This is based off the 2d_ddpm_tutorial_ignite.ipynb notebook with a few changes.\n",
    "\n",
    "The bundle defines training and inference scripts whose use will be described here along with visualisations. The assumption with this notebook is that it's run within the bundle's `docs` directory and that the environment it runs in has `MONAI` installed. The command lines given are known to work in `bash` however may be problematic in Windows.\n",
    "\n",
    "Specifically, we train a diffusion model to generate X-Ray hands (drawn from the MedNIST dataset).\n",
    "\n",
    "First thing to do is import libraries and verify MONAI is present:"
   ]
  },
  {
   "cell_type": "code",
   "execution_count": 1,
   "id": "6d32f8a4-2bfe-4cfb-9abd-033b0c6080e6",
   "metadata": {},
   "outputs": [
    {
     "name": "stdout",
     "output_type": "stream",
     "text": [
      "MONAI version: 1.4.0\n",
      "Numpy version: 1.26.4\n",
      "Pytorch version: 2.5.1+cu124\n",
      "MONAI flags: HAS_EXT = False, USE_COMPILED = False, USE_META_DICT = False\n",
      "MONAI rev id: 46a5272196a6c2590ca2589029eed8e4d56ff008\n",
      "MONAI __file__: /media/<username>/BigCrumb/POSTDOC_FEDERATED_LEARNING/PRODIGY_PROJECT/monai-model-zoo/venv/lib/python3.10/site-packages/monai/__init__.py\n",
      "\n",
      "Optional dependencies:\n",
      "Pytorch Ignite version: 0.5.1\n",
      "ITK version: NOT INSTALLED or UNKNOWN VERSION.\n",
      "Nibabel version: NOT INSTALLED or UNKNOWN VERSION.\n",
      "scikit-image version: NOT INSTALLED or UNKNOWN VERSION.\n",
      "scipy version: NOT INSTALLED or UNKNOWN VERSION.\n",
      "Pillow version: 11.0.0\n",
      "Tensorboard version: NOT INSTALLED or UNKNOWN VERSION.\n",
      "gdown version: 5.2.0\n",
      "TorchVision version: NOT INSTALLED or UNKNOWN VERSION.\n",
      "tqdm version: 4.67.1\n",
      "lmdb version: NOT INSTALLED or UNKNOWN VERSION.\n",
      "psutil version: 6.1.1\n",
      "pandas version: NOT INSTALLED or UNKNOWN VERSION.\n",
      "einops version: 0.8.0\n",
      "transformers version: 4.46.3\n",
      "mlflow version: NOT INSTALLED or UNKNOWN VERSION.\n",
      "pynrrd version: NOT INSTALLED or UNKNOWN VERSION.\n",
      "clearml version: NOT INSTALLED or UNKNOWN VERSION.\n",
      "\n",
      "For details about installing the optional dependencies, please visit:\n",
      "    https://docs.monai.io/en/latest/installation.html#installing-the-recommended-dependencies\n",
      "\n"
     ]
    }
   ],
   "source": [
    "import os\n",
    "import shutil\n",
    "import tempfile\n",
    "from pathlib import Path\n",
    "\n",
    "import torch\n",
    "\n",
    "import matplotlib.pyplot as plt\n",
    "import monai\n",
    "from monai.bundle import ConfigParser\n",
    "\n",
    "# path to the bundle directory, this assumes you're running the notebook in its directory\n",
    "bundle_root = str(Path(\".\").absolute().parent)\n",
    "\n",
    "monai.config.print_config()"
   ]
  },
  {
   "cell_type": "code",
   "execution_count": 2,
   "id": "d6fc6592-cb51-4527-97ee-add5d1cdbeb4",
   "metadata": {},
   "outputs": [
    {
     "name": "stdout",
     "output_type": "stream",
     "text": [
      "/tmp/tmpwv12iwwo\n"
     ]
    }
   ],
   "source": [
    "directory = os.environ.get(\"MONAI_DATA_DIRECTORY\")\n",
    "dataset_dir = tempfile.mkdtemp() if directory is None else directory\n",
    "print(dataset_dir)"
   ]
  },
  {
   "cell_type": "markdown",
   "id": "5721b12a-8474-435b-aac2-c0ed054fa618",
   "metadata": {},
   "source": [
    "### Training the diffusion model"
   ]
  },
  {
   "cell_type": "markdown",
   "id": "678d2e51-dc2d-4ad9-a4c0-14a6f900398b",
   "metadata": {},
   "source": [
    "A bundle can be run on the command line using the Fire library or by parsing the configuration manually then getting parsed content objects. The following is the command to train the network for the default number of epochs. It will define values in the config files which need to be set for a particular run, such as the dataset directory created above, and setting the PYTHONPATH variable. The configuration for this bundle is split into 4 yaml files, one having common definitions for training and inference (common.yaml), one to enable multi-GPU training (train_multigpu.yaml), and one each for training (train.yaml) and inference (inference.yaml). Their combinations determine what your final configuration is, in this case the common and train files produce a training script. \n",
    "\n",
    "The dataset information is available in configs/common.yaml. The transformations to which the data is subject, which is basically the addition of a channel dimension and the scaling of the images between 0 and 1, is in each task yaml file. "
   ]
  },
  {
   "cell_type": "code",
   "execution_count": 3,
   "id": "d52a4ae9-0d6d-4bc4-a5b5-f84470711f2d",
   "metadata": {
    "scrolled": true
   },
   "outputs": [
    {
     "name": "stdout",
     "output_type": "stream",
     "text": [
      "2025-01-12 15:03:16,093 - INFO - --- input summary of monai.bundle.scripts.run ---\n",
      "2025-01-12 15:03:16,093 - INFO - > config_file: ('./configs/common.yaml',\n",
      " './configs/train.yaml')\n",
      "2025-01-12 15:03:16,093 - INFO - > meta_file: './configs/metadata.json'\n",
      "2025-01-12 15:03:16,093 - INFO - > logging_file: '/monai-model-zoo/model-zoo/models/mednist_ddpm/configs/logging.conf'\n",
      "2025-01-12 15:03:16,093 - INFO - > run_id: 'training'\n",
      "2025-01-12 15:03:16,093 - INFO - > bundle_root: '/model-zoo/models/mednist_ddpm'\n",
      "2025-01-12 15:03:16,093 - INFO - > dataset_dir: '/tmp/tmpwv12iwwo'\n",
      "2025-01-12 15:03:16,093 - INFO - ---\n",
      "\n",
      "\n",
      "2025-01-12 15:03:16,093 - INFO - Setting logging properties based on config: ./configs/logging.conf.\n",
      "2025-01-12 15:03:17,424 - INFO - Downloaded: /tmp/tmpwv12iwwo/MedNIST.tar.gz\n",
      "2025-01-12 15:03:17,500 - INFO - Verified 'MedNIST.tar.gz', md5: 0bc7306e7427e00ad1c5526a6677552d.\n",
      "2025-01-12 15:03:17,500 - INFO - Writing into directory: /tmp/tmpwv12iwwo.\n",
      "2025-01-12 15:03:38,425 - INFO - Verified 'MedNIST.tar.gz', md5: 0bc7306e7427e00ad1c5526a6677552d.\n",
      "2025-01-12 15:03:38,425 - INFO - File exists: /tmp/tmpwv12iwwo/MedNIST.tar.gz, skipped downloading.\n",
      "2025-01-12 15:03:38,425 - INFO - Non-empty folder exists in /tmp/tmpwv12iwwo/MedNIST, skipped extracting.\n",
      "2025-01-12 15:03:40,493 - ignite.engine.engine.SupervisedTrainer - INFO - Engine run resuming from iteration 0, epoch 0 until 75 epochs\n",
      "2025-01-12 15:04:32,910 - ignite.engine.engine.SupervisedTrainer - INFO - Got new best metric of train_acc: 0.1607925146818161\n",
      "2025-01-12 15:04:32,910 - ignite.engine.engine.SupervisedTrainer - INFO - Epoch[1] Complete. Time taken: 00:00:52.417\n",
      "2025-01-12 15:05:23,448 - ignite.engine.engine.SupervisedTrainer - INFO - Got new best metric of train_acc: 0.016663629561662674\n",
      "2025-01-12 15:05:23,448 - ignite.engine.engine.SupervisedTrainer - INFO - Epoch[2] Complete. Time taken: 00:00:50.538\n",
      "2025-01-12 15:06:14,642 - ignite.engine.engine.SupervisedTrainer - INFO - Got new best metric of train_acc: 0.01578485034406185\n",
      "2025-01-12 15:06:14,642 - ignite.engine.engine.SupervisedTrainer - INFO - Epoch[3] Complete. Time taken: 00:00:51.194\n",
      "2025-01-12 15:07:05,276 - ignite.engine.engine.SupervisedTrainer - INFO - Got new best metric of train_acc: 0.013587715104222298\n",
      "2025-01-12 15:07:05,276 - ignite.engine.engine.SupervisedTrainer - INFO - Epoch[4] Complete. Time taken: 00:00:50.634\n",
      "2025-01-12 15:07:55,814 - ignite.engine.engine.SupervisedTrainer - INFO - Got new best metric of train_acc: 0.012479547411203384\n",
      "2025-01-12 15:07:55,814 - ignite.engine.engine.SupervisedEvaluator - INFO - Engine run resuming from iteration 0, epoch 4 until 5 epochs\n",
      "2025-01-12 15:07:59,376 - ignite.engine.engine.SupervisedEvaluator - INFO - Got new best metric of val_mean_abs_error: 0.05754538252949715\n",
      "2025-01-12 15:07:59,376 - INFO - Epoch[5] Metrics -- val_mean_abs_error: 0.0575 \n",
      "2025-01-12 15:07:59,376 - INFO - Key metric: val_mean_abs_error best value: 0.05754538252949715 at epoch: 5\n",
      "2025-01-12 15:07:59,376 - ignite.engine.engine.SupervisedEvaluator - INFO - Epoch[5] Complete. Time taken: 00:00:03.456\n",
      "2025-01-12 15:07:59,376 - ignite.engine.engine.SupervisedEvaluator - INFO - Engine run complete. Time taken: 00:00:03.561\n",
      "2025-01-12 15:07:59,414 - ignite.engine.engine.SupervisedTrainer - INFO - Saved checkpoint at epoch: 5\n",
      "2025-01-12 15:07:59,414 - ignite.engine.engine.SupervisedTrainer - INFO - Epoch[5] Complete. Time taken: 00:00:54.138\n",
      "2025-01-12 15:08:50,244 - ignite.engine.engine.SupervisedTrainer - INFO - Got new best metric of train_acc: 0.012240087613463402\n",
      "2025-01-12 15:08:50,244 - ignite.engine.engine.SupervisedTrainer - INFO - Epoch[6] Complete. Time taken: 00:00:50.830\n",
      "2025-01-12 15:09:41,102 - ignite.engine.engine.SupervisedTrainer - INFO - Epoch[7] Complete. Time taken: 00:00:50.858\n",
      "2025-01-12 15:10:31,267 - ignite.engine.engine.SupervisedTrainer - INFO - Epoch[8] Complete. Time taken: 00:00:50.165\n",
      "2025-01-12 15:11:21,542 - ignite.engine.engine.SupervisedTrainer - INFO - Got new best metric of train_acc: 0.01170545443892479\n",
      "2025-01-12 15:11:21,542 - ignite.engine.engine.SupervisedTrainer - INFO - Epoch[9] Complete. Time taken: 00:00:50.275\n",
      "2025-01-12 15:12:11,241 - ignite.engine.engine.SupervisedEvaluator - INFO - Engine run resuming from iteration 0, epoch 9 until 10 epochs\n",
      "2025-01-12 15:12:14,437 - ignite.engine.engine.SupervisedEvaluator - INFO - Got new best metric of val_mean_abs_error: 0.052069272845983505\n",
      "2025-01-12 15:12:14,437 - INFO - Epoch[10] Metrics -- val_mean_abs_error: 0.0521 \n",
      "2025-01-12 15:12:14,437 - INFO - Key metric: val_mean_abs_error best value: 0.052069272845983505 at epoch: 10\n",
      "2025-01-12 15:12:14,437 - ignite.engine.engine.SupervisedEvaluator - INFO - Epoch[10] Complete. Time taken: 00:00:03.195\n",
      "2025-01-12 15:12:14,437 - ignite.engine.engine.SupervisedEvaluator - INFO - Engine run complete. Time taken: 00:00:03.196\n",
      "2025-01-12 15:12:14,472 - ignite.engine.engine.SupervisedTrainer - INFO - Saved checkpoint at epoch: 10\n",
      "2025-01-12 15:12:14,472 - ignite.engine.engine.SupervisedTrainer - INFO - Epoch[10] Complete. Time taken: 00:00:52.930\n",
      "2025-01-12 15:13:04,729 - ignite.engine.engine.SupervisedTrainer - INFO - Got new best metric of train_acc: 0.011470048688352108\n",
      "2025-01-12 15:13:04,729 - ignite.engine.engine.SupervisedTrainer - INFO - Epoch[11] Complete. Time taken: 00:00:50.257\n",
      "2025-01-12 15:13:54,781 - ignite.engine.engine.SupervisedTrainer - INFO - Got new best metric of train_acc: 0.010766257531940937\n",
      "2025-01-12 15:13:54,781 - ignite.engine.engine.SupervisedTrainer - INFO - Epoch[12] Complete. Time taken: 00:00:50.052\n",
      "2025-01-12 15:14:47,646 - ignite.engine.engine.SupervisedTrainer - INFO - Epoch[13] Complete. Time taken: 00:00:52.865\n",
      "2025-01-12 15:15:38,487 - ignite.engine.engine.SupervisedTrainer - INFO - Got new best metric of train_acc: 0.010334153659641743\n",
      "2025-01-12 15:15:38,487 - ignite.engine.engine.SupervisedTrainer - INFO - Epoch[14] Complete. Time taken: 00:00:50.840\n",
      "2025-01-12 15:16:29,745 - ignite.engine.engine.SupervisedEvaluator - INFO - Engine run resuming from iteration 0, epoch 14 until 15 epochs\n",
      "2025-01-12 15:16:32,924 - ignite.engine.engine.SupervisedEvaluator - INFO - Got new best metric of val_mean_abs_error: 0.04713250324130058\n",
      "2025-01-12 15:16:32,924 - INFO - Epoch[15] Metrics -- val_mean_abs_error: 0.0471 \n",
      "2025-01-12 15:16:32,924 - INFO - Key metric: val_mean_abs_error best value: 0.04713250324130058 at epoch: 15\n",
      "2025-01-12 15:16:32,924 - ignite.engine.engine.SupervisedEvaluator - INFO - Epoch[15] Complete. Time taken: 00:00:03.178\n",
      "2025-01-12 15:16:32,924 - ignite.engine.engine.SupervisedEvaluator - INFO - Engine run complete. Time taken: 00:00:03.179\n",
      "2025-01-12 15:16:32,960 - ignite.engine.engine.SupervisedTrainer - INFO - Saved checkpoint at epoch: 15\n",
      "2025-01-12 15:16:32,960 - ignite.engine.engine.SupervisedTrainer - INFO - Epoch[15] Complete. Time taken: 00:00:54.473\n",
      "2025-01-12 15:17:23,605 - ignite.engine.engine.SupervisedTrainer - INFO - Got new best metric of train_acc: 0.010036583058536053\n",
      "2025-01-12 15:17:23,605 - ignite.engine.engine.SupervisedTrainer - INFO - Epoch[16] Complete. Time taken: 00:00:50.645\n",
      "2025-01-12 15:18:14,424 - ignite.engine.engine.SupervisedTrainer - INFO - Epoch[17] Complete. Time taken: 00:00:50.819\n",
      "2025-01-12 15:19:05,194 - ignite.engine.engine.SupervisedTrainer - INFO - Epoch[18] Complete. Time taken: 00:00:50.770\n",
      "2025-01-12 15:19:55,723 - ignite.engine.engine.SupervisedTrainer - INFO - Got new best metric of train_acc: 0.010024736635386944\n",
      "2025-01-12 15:19:55,723 - ignite.engine.engine.SupervisedTrainer - INFO - Epoch[19] Complete. Time taken: 00:00:50.529\n",
      "2025-01-12 15:20:46,329 - ignite.engine.engine.SupervisedEvaluator - INFO - Engine run resuming from iteration 0, epoch 19 until 20 epochs\n",
      "2025-01-12 15:20:49,486 - ignite.engine.engine.SupervisedEvaluator - INFO - Got new best metric of val_mean_abs_error: 0.04626006633043289\n",
      "2025-01-12 15:20:49,486 - INFO - Epoch[20] Metrics -- val_mean_abs_error: 0.0463 \n",
      "2025-01-12 15:20:49,486 - INFO - Key metric: val_mean_abs_error best value: 0.04626006633043289 at epoch: 20\n",
      "2025-01-12 15:20:49,486 - ignite.engine.engine.SupervisedEvaluator - INFO - Epoch[20] Complete. Time taken: 00:00:03.155\n",
      "2025-01-12 15:20:49,486 - ignite.engine.engine.SupervisedEvaluator - INFO - Engine run complete. Time taken: 00:00:03.156\n",
      "2025-01-12 15:20:49,522 - ignite.engine.engine.SupervisedTrainer - INFO - Saved checkpoint at epoch: 20\n",
      "2025-01-12 15:20:49,522 - ignite.engine.engine.SupervisedTrainer - INFO - Epoch[20] Complete. Time taken: 00:00:53.799\n",
      "2025-01-12 15:21:41,275 - ignite.engine.engine.SupervisedTrainer - INFO - Epoch[21] Complete. Time taken: 00:00:51.753\n",
      "2025-01-12 15:22:31,483 - ignite.engine.engine.SupervisedTrainer - INFO - Got new best metric of train_acc: 0.010010532103478909\n",
      "2025-01-12 15:22:31,483 - ignite.engine.engine.SupervisedTrainer - INFO - Epoch[22] Complete. Time taken: 00:00:50.207\n",
      "2025-01-12 15:23:22,529 - ignite.engine.engine.SupervisedTrainer - INFO - Got new best metric of train_acc: 0.0098584508523345\n",
      "2025-01-12 15:23:22,529 - ignite.engine.engine.SupervisedTrainer - INFO - Epoch[23] Complete. Time taken: 00:00:51.046\n",
      "2025-01-12 15:24:14,032 - ignite.engine.engine.SupervisedTrainer - INFO - Epoch[24] Complete. Time taken: 00:00:51.503\n",
      "2025-01-12 15:25:05,966 - ignite.engine.engine.SupervisedEvaluator - INFO - Engine run resuming from iteration 0, epoch 24 until 25 epochs\n",
      "2025-01-12 15:25:09,415 - INFO - Epoch[25] Metrics -- val_mean_abs_error: 0.0496 \n",
      "2025-01-12 15:25:09,415 - INFO - Key metric: val_mean_abs_error best value: 0.04626006633043289 at epoch: 20\n",
      "2025-01-12 15:25:09,415 - ignite.engine.engine.SupervisedEvaluator - INFO - Epoch[25] Complete. Time taken: 00:00:03.448\n",
      "2025-01-12 15:25:09,415 - ignite.engine.engine.SupervisedEvaluator - INFO - Engine run complete. Time taken: 00:00:03.449\n",
      "2025-01-12 15:25:09,456 - ignite.engine.engine.SupervisedTrainer - INFO - Saved checkpoint at epoch: 25\n",
      "2025-01-12 15:25:09,456 - ignite.engine.engine.SupervisedTrainer - INFO - Epoch[25] Complete. Time taken: 00:00:55.424\n",
      "2025-01-12 15:26:01,710 - ignite.engine.engine.SupervisedTrainer - INFO - Got new best metric of train_acc: 0.00983799621462822\n",
      "2025-01-12 15:26:01,710 - ignite.engine.engine.SupervisedTrainer - INFO - Epoch[26] Complete. Time taken: 00:00:52.254\n",
      "2025-01-12 15:26:52,896 - ignite.engine.engine.SupervisedTrainer - INFO - Got new best metric of train_acc: 0.009661602787673473\n",
      "2025-01-12 15:26:52,896 - ignite.engine.engine.SupervisedTrainer - INFO - Epoch[27] Complete. Time taken: 00:00:51.186\n",
      "2025-01-12 15:27:44,867 - ignite.engine.engine.SupervisedTrainer - INFO - Epoch[28] Complete. Time taken: 00:00:51.971\n",
      "2025-01-12 15:28:36,403 - ignite.engine.engine.SupervisedTrainer - INFO - Epoch[29] Complete. Time taken: 00:00:51.536\n",
      "2025-01-12 15:29:28,646 - ignite.engine.engine.SupervisedEvaluator - INFO - Engine run resuming from iteration 0, epoch 29 until 30 epochs\n",
      "2025-01-12 15:29:32,041 - INFO - Epoch[30] Metrics -- val_mean_abs_error: 0.0470 \n",
      "2025-01-12 15:29:32,041 - INFO - Key metric: val_mean_abs_error best value: 0.04626006633043289 at epoch: 20\n",
      "2025-01-12 15:29:32,041 - ignite.engine.engine.SupervisedEvaluator - INFO - Epoch[30] Complete. Time taken: 00:00:03.394\n",
      "2025-01-12 15:29:32,041 - ignite.engine.engine.SupervisedEvaluator - INFO - Engine run complete. Time taken: 00:00:03.395\n",
      "2025-01-12 15:29:32,077 - ignite.engine.engine.SupervisedTrainer - INFO - Saved checkpoint at epoch: 30\n",
      "2025-01-12 15:29:32,077 - ignite.engine.engine.SupervisedTrainer - INFO - Epoch[30] Complete. Time taken: 00:00:55.673\n",
      "2025-01-12 15:30:23,055 - ignite.engine.engine.SupervisedTrainer - INFO - Got new best metric of train_acc: 0.00965067371726036\n",
      "2025-01-12 15:30:23,055 - ignite.engine.engine.SupervisedTrainer - INFO - Epoch[31] Complete. Time taken: 00:00:50.978\n",
      "2025-01-12 15:31:13,065 - ignite.engine.engine.SupervisedTrainer - INFO - Got new best metric of train_acc: 0.009442757815122604\n",
      "2025-01-12 15:31:13,065 - ignite.engine.engine.SupervisedTrainer - INFO - Epoch[32] Complete. Time taken: 00:00:50.010\n",
      "2025-01-12 15:32:03,203 - ignite.engine.engine.SupervisedTrainer - INFO - Got new best metric of train_acc: 0.008967726491391659\n",
      "2025-01-12 15:32:03,203 - ignite.engine.engine.SupervisedTrainer - INFO - Epoch[33] Complete. Time taken: 00:00:50.138\n",
      "2025-01-12 15:32:54,857 - ignite.engine.engine.SupervisedTrainer - INFO - Epoch[34] Complete. Time taken: 00:00:51.654\n",
      "2025-01-12 15:33:46,354 - ignite.engine.engine.SupervisedEvaluator - INFO - Engine run resuming from iteration 0, epoch 34 until 35 epochs\n",
      "2025-01-12 15:33:49,503 - ignite.engine.engine.SupervisedEvaluator - INFO - Got new best metric of val_mean_abs_error: 0.04337985813617706\n",
      "2025-01-12 15:33:49,503 - INFO - Epoch[35] Metrics -- val_mean_abs_error: 0.0434 \n",
      "2025-01-12 15:33:49,503 - INFO - Key metric: val_mean_abs_error best value: 0.04337985813617706 at epoch: 35\n",
      "2025-01-12 15:33:49,503 - ignite.engine.engine.SupervisedEvaluator - INFO - Epoch[35] Complete. Time taken: 00:00:03.148\n",
      "2025-01-12 15:33:49,503 - ignite.engine.engine.SupervisedEvaluator - INFO - Engine run complete. Time taken: 00:00:03.149\n",
      "2025-01-12 15:33:49,541 - ignite.engine.engine.SupervisedTrainer - INFO - Saved checkpoint at epoch: 35\n",
      "2025-01-12 15:33:49,541 - ignite.engine.engine.SupervisedTrainer - INFO - Epoch[35] Complete. Time taken: 00:00:54.684\n",
      "2025-01-12 15:34:39,577 - ignite.engine.engine.SupervisedTrainer - INFO - Epoch[36] Complete. Time taken: 00:00:50.036\n",
      "2025-01-12 15:35:29,836 - ignite.engine.engine.SupervisedTrainer - INFO - Epoch[37] Complete. Time taken: 00:00:50.259\n",
      "2025-01-12 15:36:20,156 - ignite.engine.engine.SupervisedTrainer - INFO - Epoch[38] Complete. Time taken: 00:00:50.319\n",
      "2025-01-12 15:37:11,001 - ignite.engine.engine.SupervisedTrainer - INFO - Epoch[39] Complete. Time taken: 00:00:50.845\n",
      "2025-01-12 15:38:00,893 - ignite.engine.engine.SupervisedEvaluator - INFO - Engine run resuming from iteration 0, epoch 39 until 40 epochs\n",
      "2025-01-12 15:38:04,000 - INFO - Epoch[40] Metrics -- val_mean_abs_error: 0.0438 \n",
      "2025-01-12 15:38:04,000 - INFO - Key metric: val_mean_abs_error best value: 0.04337985813617706 at epoch: 35\n",
      "2025-01-12 15:38:04,001 - ignite.engine.engine.SupervisedEvaluator - INFO - Epoch[40] Complete. Time taken: 00:00:03.107\n",
      "2025-01-12 15:38:04,001 - ignite.engine.engine.SupervisedEvaluator - INFO - Engine run complete. Time taken: 00:00:03.108\n",
      "2025-01-12 15:38:04,036 - ignite.engine.engine.SupervisedTrainer - INFO - Saved checkpoint at epoch: 40\n",
      "2025-01-12 15:38:04,036 - ignite.engine.engine.SupervisedTrainer - INFO - Epoch[40] Complete. Time taken: 00:00:53.035\n",
      "2025-01-12 15:38:55,442 - ignite.engine.engine.SupervisedTrainer - INFO - Epoch[41] Complete. Time taken: 00:00:51.406\n",
      "2025-01-12 15:39:45,574 - ignite.engine.engine.SupervisedTrainer - INFO - Epoch[42] Complete. Time taken: 00:00:50.132\n",
      "2025-01-12 15:40:35,569 - ignite.engine.engine.SupervisedTrainer - INFO - Epoch[43] Complete. Time taken: 00:00:49.995\n",
      "2025-01-12 15:41:26,067 - ignite.engine.engine.SupervisedTrainer - INFO - Epoch[44] Complete. Time taken: 00:00:50.498\n",
      "2025-01-12 15:42:16,779 - ignite.engine.engine.SupervisedEvaluator - INFO - Engine run resuming from iteration 0, epoch 44 until 45 epochs\n",
      "2025-01-12 15:42:19,954 - ignite.engine.engine.SupervisedEvaluator - INFO - Got new best metric of val_mean_abs_error: 0.04306837171316147\n",
      "2025-01-12 15:42:19,954 - INFO - Epoch[45] Metrics -- val_mean_abs_error: 0.0431 \n",
      "2025-01-12 15:42:19,954 - INFO - Key metric: val_mean_abs_error best value: 0.04306837171316147 at epoch: 45\n",
      "2025-01-12 15:42:19,954 - ignite.engine.engine.SupervisedEvaluator - INFO - Epoch[45] Complete. Time taken: 00:00:03.175\n",
      "2025-01-12 15:42:19,954 - ignite.engine.engine.SupervisedEvaluator - INFO - Engine run complete. Time taken: 00:00:03.176\n",
      "2025-01-12 15:42:19,991 - ignite.engine.engine.SupervisedTrainer - INFO - Saved checkpoint at epoch: 45\n",
      "2025-01-12 15:42:19,991 - ignite.engine.engine.SupervisedTrainer - INFO - Epoch[45] Complete. Time taken: 00:00:53.924\n",
      "2025-01-12 15:43:10,711 - ignite.engine.engine.SupervisedTrainer - INFO - Epoch[46] Complete. Time taken: 00:00:50.719\n",
      "2025-01-12 15:44:01,432 - ignite.engine.engine.SupervisedTrainer - INFO - Epoch[47] Complete. Time taken: 00:00:50.721\n",
      "2025-01-12 15:44:51,691 - ignite.engine.engine.SupervisedTrainer - INFO - Epoch[48] Complete. Time taken: 00:00:50.259\n",
      "2025-01-12 15:45:42,095 - ignite.engine.engine.SupervisedTrainer - INFO - Epoch[49] Complete. Time taken: 00:00:50.404\n",
      "2025-01-12 15:46:31,322 - ignite.engine.engine.SupervisedEvaluator - INFO - Engine run resuming from iteration 0, epoch 49 until 50 epochs\n",
      "2025-01-12 15:46:34,403 - ignite.engine.engine.SupervisedEvaluator - INFO - Got new best metric of val_mean_abs_error: 0.0430283285677433\n",
      "2025-01-12 15:46:34,403 - INFO - Epoch[50] Metrics -- val_mean_abs_error: 0.0430 \n",
      "2025-01-12 15:46:34,403 - INFO - Key metric: val_mean_abs_error best value: 0.0430283285677433 at epoch: 50\n",
      "2025-01-12 15:46:34,403 - ignite.engine.engine.SupervisedEvaluator - INFO - Epoch[50] Complete. Time taken: 00:00:03.081\n",
      "2025-01-12 15:46:34,403 - ignite.engine.engine.SupervisedEvaluator - INFO - Engine run complete. Time taken: 00:00:03.081\n",
      "2025-01-12 15:46:34,438 - ignite.engine.engine.SupervisedTrainer - INFO - Saved checkpoint at epoch: 50\n",
      "2025-01-12 15:46:34,439 - ignite.engine.engine.SupervisedTrainer - INFO - Epoch[50] Complete. Time taken: 00:00:52.343\n",
      "2025-01-12 15:47:24,391 - ignite.engine.engine.SupervisedTrainer - INFO - Epoch[51] Complete. Time taken: 00:00:49.953\n",
      "2025-01-12 15:48:13,872 - ignite.engine.engine.SupervisedTrainer - INFO - Got new best metric of train_acc: 0.008929001167416573\n",
      "2025-01-12 15:48:13,872 - ignite.engine.engine.SupervisedTrainer - INFO - Epoch[52] Complete. Time taken: 00:00:49.481\n",
      "2025-01-12 15:49:03,685 - ignite.engine.engine.SupervisedTrainer - INFO - Got new best metric of train_acc: 0.008782487362623215\n",
      "2025-01-12 15:49:03,685 - ignite.engine.engine.SupervisedTrainer - INFO - Epoch[53] Complete. Time taken: 00:00:49.813\n",
      "2025-01-12 15:49:54,525 - ignite.engine.engine.SupervisedTrainer - INFO - Got new best metric of train_acc: 0.008487475104629993\n",
      "2025-01-12 15:49:54,525 - ignite.engine.engine.SupervisedTrainer - INFO - Epoch[54] Complete. Time taken: 00:00:50.840\n",
      "2025-01-12 15:50:44,821 - ignite.engine.engine.SupervisedEvaluator - INFO - Engine run resuming from iteration 0, epoch 54 until 55 epochs\n",
      "2025-01-12 15:50:48,030 - INFO - Epoch[55] Metrics -- val_mean_abs_error: 0.0439 \n",
      "2025-01-12 15:50:48,030 - INFO - Key metric: val_mean_abs_error best value: 0.0430283285677433 at epoch: 50\n",
      "2025-01-12 15:50:48,030 - ignite.engine.engine.SupervisedEvaluator - INFO - Epoch[55] Complete. Time taken: 00:00:03.209\n",
      "2025-01-12 15:50:48,030 - ignite.engine.engine.SupervisedEvaluator - INFO - Engine run complete. Time taken: 00:00:03.209\n",
      "2025-01-12 15:50:48,065 - ignite.engine.engine.SupervisedTrainer - INFO - Saved checkpoint at epoch: 55\n",
      "2025-01-12 15:50:48,065 - ignite.engine.engine.SupervisedTrainer - INFO - Epoch[55] Complete. Time taken: 00:00:53.540\n",
      "2025-01-12 15:51:38,621 - ignite.engine.engine.SupervisedTrainer - INFO - Epoch[56] Complete. Time taken: 00:00:50.556\n",
      "2025-01-12 15:52:29,348 - ignite.engine.engine.SupervisedTrainer - INFO - Epoch[57] Complete. Time taken: 00:00:50.728\n",
      "2025-01-12 15:53:19,125 - ignite.engine.engine.SupervisedTrainer - INFO - Epoch[58] Complete. Time taken: 00:00:49.777\n",
      "2025-01-12 15:54:09,447 - ignite.engine.engine.SupervisedTrainer - INFO - Epoch[59] Complete. Time taken: 00:00:50.322\n",
      "2025-01-12 15:55:00,218 - ignite.engine.engine.SupervisedEvaluator - INFO - Engine run resuming from iteration 0, epoch 59 until 60 epochs\n",
      "2025-01-12 15:55:03,421 - ignite.engine.engine.SupervisedEvaluator - INFO - Got new best metric of val_mean_abs_error: 0.041947875171899796\n",
      "2025-01-12 15:55:03,421 - INFO - Epoch[60] Metrics -- val_mean_abs_error: 0.0419 \n",
      "2025-01-12 15:55:03,421 - INFO - Key metric: val_mean_abs_error best value: 0.041947875171899796 at epoch: 60\n",
      "2025-01-12 15:55:03,421 - ignite.engine.engine.SupervisedEvaluator - INFO - Epoch[60] Complete. Time taken: 00:00:03.203\n",
      "2025-01-12 15:55:03,421 - ignite.engine.engine.SupervisedEvaluator - INFO - Engine run complete. Time taken: 00:00:03.204\n",
      "2025-01-12 15:55:03,457 - ignite.engine.engine.SupervisedTrainer - INFO - Saved checkpoint at epoch: 60\n",
      "2025-01-12 15:55:03,457 - ignite.engine.engine.SupervisedTrainer - INFO - Epoch[60] Complete. Time taken: 00:00:54.010\n",
      "2025-01-12 15:55:53,564 - ignite.engine.engine.SupervisedTrainer - INFO - Epoch[61] Complete. Time taken: 00:00:50.106\n",
      "2025-01-12 15:56:43,425 - ignite.engine.engine.SupervisedTrainer - INFO - Epoch[62] Complete. Time taken: 00:00:49.861\n",
      "2025-01-12 15:57:33,398 - ignite.engine.engine.SupervisedTrainer - INFO - Epoch[63] Complete. Time taken: 00:00:49.973\n",
      "2025-01-12 15:58:24,324 - ignite.engine.engine.SupervisedTrainer - INFO - Epoch[64] Complete. Time taken: 00:00:50.926\n",
      "2025-01-12 15:59:14,813 - ignite.engine.engine.SupervisedEvaluator - INFO - Engine run resuming from iteration 0, epoch 64 until 65 epochs\n",
      "2025-01-12 15:59:18,066 - ignite.engine.engine.SupervisedEvaluator - INFO - Got new best metric of val_mean_abs_error: 0.03936021775007248\n",
      "2025-01-12 15:59:18,066 - INFO - Epoch[65] Metrics -- val_mean_abs_error: 0.0394 \n",
      "2025-01-12 15:59:18,066 - INFO - Key metric: val_mean_abs_error best value: 0.03936021775007248 at epoch: 65\n",
      "2025-01-12 15:59:18,066 - ignite.engine.engine.SupervisedEvaluator - INFO - Epoch[65] Complete. Time taken: 00:00:03.252\n",
      "2025-01-12 15:59:18,066 - ignite.engine.engine.SupervisedEvaluator - INFO - Engine run complete. Time taken: 00:00:03.253\n",
      "2025-01-12 15:59:18,102 - ignite.engine.engine.SupervisedTrainer - INFO - Saved checkpoint at epoch: 65\n",
      "2025-01-12 15:59:18,102 - ignite.engine.engine.SupervisedTrainer - INFO - Epoch[65] Complete. Time taken: 00:00:53.777\n",
      "2025-01-12 16:00:08,835 - ignite.engine.engine.SupervisedTrainer - INFO - Epoch[66] Complete. Time taken: 00:00:50.733\n",
      "2025-01-12 16:00:59,763 - ignite.engine.engine.SupervisedTrainer - INFO - Epoch[67] Complete. Time taken: 00:00:50.928\n",
      "2025-01-12 16:01:50,445 - ignite.engine.engine.SupervisedTrainer - INFO - Epoch[68] Complete. Time taken: 00:00:50.682\n",
      "2025-01-12 16:02:40,879 - ignite.engine.engine.SupervisedTrainer - INFO - Epoch[69] Complete. Time taken: 00:00:50.434\n",
      "2025-01-12 16:03:31,271 - ignite.engine.engine.SupervisedEvaluator - INFO - Engine run resuming from iteration 0, epoch 69 until 70 epochs\n",
      "2025-01-12 16:03:34,374 - INFO - Epoch[70] Metrics -- val_mean_abs_error: 0.0419 \n",
      "2025-01-12 16:03:34,374 - INFO - Key metric: val_mean_abs_error best value: 0.03936021775007248 at epoch: 65\n",
      "2025-01-12 16:03:34,374 - ignite.engine.engine.SupervisedEvaluator - INFO - Epoch[70] Complete. Time taken: 00:00:03.103\n",
      "2025-01-12 16:03:34,374 - ignite.engine.engine.SupervisedEvaluator - INFO - Engine run complete. Time taken: 00:00:03.103\n",
      "2025-01-12 16:03:34,410 - ignite.engine.engine.SupervisedTrainer - INFO - Saved checkpoint at epoch: 70\n",
      "2025-01-12 16:03:34,410 - ignite.engine.engine.SupervisedTrainer - INFO - Epoch[70] Complete. Time taken: 00:00:53.531\n",
      "2025-01-12 16:04:24,720 - ignite.engine.engine.SupervisedTrainer - INFO - Epoch[71] Complete. Time taken: 00:00:50.310\n",
      "2025-01-12 16:05:16,274 - ignite.engine.engine.SupervisedTrainer - INFO - Epoch[72] Complete. Time taken: 00:00:51.554\n",
      "2025-01-12 16:06:07,155 - ignite.engine.engine.SupervisedTrainer - INFO - Epoch[73] Complete. Time taken: 00:00:50.880\n",
      "2025-01-12 16:06:57,143 - ignite.engine.engine.SupervisedTrainer - INFO - Epoch[74] Complete. Time taken: 00:00:49.988\n",
      "2025-01-12 16:07:47,371 - ignite.engine.engine.SupervisedTrainer - INFO - Got new best metric of train_acc: 0.008344327099621296\n",
      "2025-01-12 16:07:47,371 - ignite.engine.engine.SupervisedEvaluator - INFO - Engine run resuming from iteration 0, epoch 74 until 75 epochs\n",
      "2025-01-12 16:07:50,558 - INFO - Epoch[75] Metrics -- val_mean_abs_error: 0.0419 \n",
      "2025-01-12 16:07:50,558 - INFO - Key metric: val_mean_abs_error best value: 0.03936021775007248 at epoch: 65\n",
      "2025-01-12 16:07:50,558 - ignite.engine.engine.SupervisedEvaluator - INFO - Epoch[75] Complete. Time taken: 00:00:03.186\n",
      "2025-01-12 16:07:50,558 - ignite.engine.engine.SupervisedEvaluator - INFO - Engine run complete. Time taken: 00:00:03.187\n",
      "2025-01-12 16:07:50,595 - ignite.engine.engine.SupervisedTrainer - INFO - Saved checkpoint at epoch: 75\n",
      "2025-01-12 16:07:50,595 - ignite.engine.engine.SupervisedTrainer - INFO - Epoch[75] Complete. Time taken: 00:00:53.452\n",
      "2025-01-12 16:07:50,631 - ignite.engine.engine.SupervisedTrainer - INFO - Train completed, saved final checkpoint: results/output_250112_150340/model_final_iteration=75000.pt\n",
      "2025-01-12 16:07:50,631 - ignite.engine.engine.SupervisedTrainer - INFO - Engine run complete. Time taken: 01:04:10.138\n"
     ]
    }
   ],
   "source": [
    "# multiple config files need to be specified this way with '' quotes, variable used in command line must be in \"\" quotes\n",
    "configs=f\"'{bundle_root}/configs/common.yaml', '{bundle_root}/configs/train.yaml'\"\n",
    "output_dir = \"outputs\"\n",
    "!PYTHONPATH={bundle_root} python -m monai.bundle run training \\\n",
    "    --meta_file {bundle_root}/configs/metadata.json \\\n",
    "    --config_file \"{configs}\" \\\n",
    "    --logging_file {bundle_root}/configs/logging.conf \\\n",
    "    --bundle_root {bundle_root} \\\n",
    "    --dataset_dir {dataset_dir} \\\n",
    "    --output_dir {output_dir}"
   ]
  },
  {
   "cell_type": "markdown",
   "id": "f872fccf-12af-43ef-bdb5-f49bc74119fa",
   "metadata": {},
   "source": [
    "### Test the diffusion model"
   ]
  },
  {
   "cell_type": "markdown",
   "id": "5030732c-deb5-448a-b575-385bda0fa308",
   "metadata": {},
   "source": [
    "The test inference script can then be invoked as such to produce an output tensor saved to the given file with a randomly generated image. The `ckpt_path` value should point to the final checkpoint file created during the above training run, which will be in a subdirectory of `./results`. The training script's default behaviour is to create a new timestamped subdirectory in `./results` for every new run, this can be explicitly set by providing a `output_dir` value on the command line."
   ]
  },
  {
   "cell_type": "code",
   "execution_count": 13,
   "id": "40e6a3e9-3984-44b0-ba9a-5b8d58c7ea2d",
   "metadata": {},
   "outputs": [
    {
     "name": "stdout",
     "output_type": "stream",
     "text": [
      "2025-01-12 19:11:01,720 - INFO - --- input summary of monai.bundle.scripts.run ---\n",
      "2025-01-12 19:11:01,721 - INFO - > config_file: ('./common.yaml',\n",
      " './configs/infer.yaml')\n",
      "2025-01-12 19:11:01,721 - INFO - > meta_file: './configs/metadata.json'\n",
      "2025-01-12 19:11:01,721 - INFO - > run_id: 'testing'\n",
      "2025-01-12 19:11:01,721 - INFO - > ckpt_path: './results/output_250112_150340/model_final_iteration=75000.pt'\n",
      "2025-01-12 19:11:01,721 - INFO - > bundle_root: '/model-zoo/models/mednist_ddpm'\n",
      "2025-01-12 19:11:01,721 - INFO - > out_file: 'test.pt'\n",
      "2025-01-12 19:11:01,721 - INFO - ---\n",
      "\n",
      "\n",
      "2025-01-12 19:11:01,721 - INFO - Setting logging properties based on config: ./configs/logging.conf.\n",
      "<string>:1: FutureWarning: You are using `torch.load` with `weights_only=False` (the current default value), which uses the default pickle module implicitly. It is possible to construct malicious pickle data which will execute arbitrary code during unpickling (See https://github.com/pytorch/pytorch/blob/main/SECURITY.md#untrusted-models for more details). In a future release, the default value for `weights_only` will be flipped to `True`. This limits the functions that could be executed during unpickling. Arbitrary objects will no longer be allowed to be loaded via this mode unless they are explicitly allowlisted by the user via `torch.serialization.add_safe_globals`. We recommend you start setting `weights_only=True` for any use case where you don't have full control of the loaded file. Please open an issue on GitHub for any issues related to this experimental feature.\n",
      "100%|██████████████████████████████████████| 1000/1000 [00:08<00:00, 112.66it/s]\n"
     ]
    },
    {
     "name": "stderr",
     "output_type": "stream",
     "text": [
      "/tmp/ipykernel_2473027/522477091.py:5: FutureWarning: You are using `torch.load` with `weights_only=False` (the current default value), which uses the default pickle module implicitly. It is possible to construct malicious pickle data which will execute arbitrary code during unpickling (See https://github.com/pytorch/pytorch/blob/main/SECURITY.md#untrusted-models for more details). In a future release, the default value for `weights_only` will be flipped to `True`. This limits the functions that could be executed during unpickling. Arbitrary objects will no longer be allowed to be loaded via this mode unless they are explicitly allowlisted by the user via `torch.serialization.add_safe_globals`. We recommend you start setting `weights_only=True` for any use case where you don't have full control of the loaded file. Please open an issue on GitHub for any issues related to this experimental feature.\n",
      "  test = torch.load(\"test.pt\", map_location=\"cpu\")\n"
     ]
    },
    {
     "data": {
      "text/plain": [
       "<matplotlib.image.AxesImage at 0x7f019589b730>"
      ]
     },
     "execution_count": 13,
     "metadata": {},
     "output_type": "execute_result"
    },
    {
     "data": {
      "image/png": "[encoded data removed]",
      "text/plain": [
       "<Figure size 640x480 with 1 Axes>"
      ]
     },
     "metadata": {},
     "output_type": "display_data"
    }
   ],
   "source": [
    "configs=f\"'{bundle_root}/configs/common.yaml', '{bundle_root}/configs/infer.yaml'\"\n",
    "\n",
    "!PYTHONPATH={bundle_root} python -m monai.bundle run testing \\\n",
    "    --meta_file {bundle_root}/configs/metadata.json \\\n",
    "    --config_file \"{configs}\" \\\n",
    "    --ckpt_path ./results/{output_dir}/model_final_iteration=75000.pt \\\n",
    "    --bundle_root {bundle_root} \\\n",
    "    --out_file test.pt\n",
    "\n",
    "test = torch.load(\"test.pt\", map_location=\"cpu\")\n",
    "\n",
    "plt.imshow(test[0, 0], vmin=0, vmax=1, cmap=\"gray\")"
   ]
  },
  {
   "cell_type": "markdown",
   "id": "f581c36e-4033-4005-8969-76205470588e",
   "metadata": {},
   "source": [
    "The same can be done by creating the parser object, filling in its configuration, then resolving the Python objects from the constructed bundle data:"
   ]
  },
  {
   "cell_type": "code",
   "execution_count": 15,
   "id": "cf8438b3-4c7d-48c4-bb41-ed7def73753f",
   "metadata": {},
   "outputs": [
    {
     "name": "stderr",
     "output_type": "stream",
     "text": [
      "100%|█████████████████████████████████████████████████████████████████████████████████████████████████████████████████████████████████████████████████████████████████████████████████████████████████████████████████████████████████████████████████████████████████| 1000/1000 [00:08<00:00, 113.56it/s]\n"
     ]
    },
    {
     "data": {
      "text/plain": [
       "<matplotlib.image.AxesImage at 0x7f0158214130>"
      ]
     },
     "execution_count": 15,
     "metadata": {},
     "output_type": "execute_result"
    },
    {
     "data": {
      "image/png": "[encoded data removed]",
      "text/plain": [
       "<Figure size 640x480 with 1 Axes>"
      ]
     },
     "metadata": {},
     "output_type": "display_data"
    }
   ],
   "source": [
    "import sys\n",
    "\n",
    "sys.path.append(bundle_root)  # make sure we load the script files we need\n",
    "\n",
    "# configure the parser from the bundle's information\n",
    "cp = ConfigParser()\n",
    "cp.read_meta(f\"{bundle_root}/configs/metadata.json\")\n",
    "cp.read_config([f\"{bundle_root}/configs/common.yaml\", f\"{bundle_root}/configs/infer.yaml\"])\n",
    "cp[\"bundle_root\"] = bundle_root\n",
    "cp[\"ckpt_path\"] = f\"./results/{output_dir}/model_final_iteration=75000.pt\"\n",
    "\n",
    "cp.get_parsed_content(\"load_state\")  # load the saved state from the checkpoint just be resolving this value\n",
    "\n",
    "device = cp.get_parsed_content(\"device\")  # device used by the bundle\n",
    "sample = cp.get_parsed_content(\"sample\")  # test sampling function\n",
    "\n",
    "image_dim = cp[\"image_dim\"]  # get the stored dimension value, no need to resolve anything\n",
    "\n",
    "noise = torch.rand(1, 1, image_dim, image_dim).to(device)  # or cp.get_parsed_content(\"noise\")\n",
    "\n",
    "test = sample(noise)\n",
    "\n",
    "plt.imshow(test[0, 0].cpu(), vmin=0, vmax=1, cmap=\"gray\")"
   ]
  },
  {
   "cell_type": "markdown",
   "id": "2feab4e5-2745-4d35-9eec-a2bb8340cf51",
   "metadata": {},
   "source": [
    "Multi-GPU can be enabled by including the `train_multigpu.yaml` configuration file:"
   ]
  },
  {
   "cell_type": "code",
   "execution_count": null,
   "id": "173cda1c-ac90-410f-b34d-b6cbb0044c7a",
   "metadata": {},
   "outputs": [],
   "source": [
    "configs=f\"'{bundle_root}/configs/common.yaml', '{bundle_root}/configs/train.yaml', '{bundle_root}/configs/train_multigpu.yaml'\"\n",
    "\n",
    "!PYTHONPATH={bundle_root} torchrun --standalone --nnodes=1 --nproc_per_node=2 -m monai.bundle run training \\\n",
    "    --meta_file {bundle_root}/configs/metadata.json \\\n",
    "    --config_file \"{configs}\" \\\n",
    "    --logging_file {bundle_root}/configs/logging.conf \\\n",
    "    --bundle_root {bundle_root} \\\n",
    "    --dataset_dir {dataset_dir} \\\n",
    "    --output_dir {output_dir} "
   ]
  },
  {
   "cell_type": "code",
   "execution_count": null,
   "id": "cb719023-8250-43c4-ab10-911829332498",
   "metadata": {},
   "outputs": [],
   "source": [
    "if directory is None:\n",
    "    shutil.rmtree(dataset_dir)"
   ]
  }
 ],
 "metadata": {
  "kernelspec": {
   "display_name": "Python 3 (ipykernel)",
   "language": "python",
   "name": "python3"
  },
  "language_info": {
   "codemirror_mode": {
    "name": "ipython",
    "version": 3
   },
   "file_extension": ".py",
   "mimetype": "text/x-python",
   "name": "python",
   "nbconvert_exporter": "python",
   "pygments_lexer": "ipython3",
   "version": "3.8.10"
  }
 },
 "nbformat": 4,
 "nbformat_minor": 5
}
