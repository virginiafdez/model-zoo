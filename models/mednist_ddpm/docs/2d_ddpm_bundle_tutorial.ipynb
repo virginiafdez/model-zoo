{
 "cells": [
  {
   "cell_type": "markdown",
   "id": "c54f5831-58eb-4f9e-bb8a-2c2a6536a658",
   "metadata": {},
   "source": [
    "# Denoising Diffusion Probabilistic Models with MedNIST Dataset Bundle \n",
    "\n",
    "This notebook discusses and uses the MONAI bundle it's included in for generating images from the MedNIST dataset using diffusion models. This is based off the 2d_ddpm_tutorial_ignite.ipynb notebook with a few changes.\n",
    "\n",
    "The bundle defines training and inference scripts whose use will be described here along with visualisations. The assumption with this notebook is that it's run within the bundle's `docs` directory and that the environment it runs in has `MONAI` installed. The command lines given are known to work in `bash` however may be problematic in Windows.\n",
    "\n",
    "Specifically, we train a diffusion model to generate X-Ray hands (drawn from the MedNIST dataset).\n",
    "\n",
    "First thing to do is import libraries and verify MONAI is present:"
   ]
  },
  {
   "cell_type": "code",
   "execution_count": 1,
   "id": "6d32f8a4-2bfe-4cfb-9abd-033b0c6080e6",
   "metadata": {},
   "outputs": [
    {
     "name": "stdout",
     "output_type": "stream",
     "text": [
      "MONAI version: 1.4.0\n",
      "Numpy version: 1.26.4\n",
      "Pytorch version: 2.5.1+cu124\n",
      "MONAI flags: HAS_EXT = False, USE_COMPILED = False, USE_META_DICT = False\n",
      "MONAI rev id: 46a5272196a6c2590ca2589029eed8e4d56ff008\n",
      "MONAI __file__: /data/PycharmProjects/monai-model-zoo/venv/lib/python3.10/site-packages/monai/__init__.py\n",
      "\n",
      "Optional dependencies:\n",
      "Pytorch Ignite version: 0.5.1\n",
      "ITK version: 5.4.0\n",
      "Nibabel version: 5.3.2\n",
      "scikit-image version: 0.25.0\n",
      "scipy version: 1.15.1\n",
      "Pillow version: 11.1.0\n",
      "Tensorboard version: 2.18.0\n",
      "gdown version: 5.2.0\n",
      "TorchVision version: NOT INSTALLED or UNKNOWN VERSION.\n",
      "tqdm version: 4.67.1\n",
      "lmdb version: NOT INSTALLED or UNKNOWN VERSION.\n",
      "psutil version: 6.1.1\n",
      "pandas version: 2.2.3\n",
      "einops version: 0.8.0\n",
      "transformers version: 4.48.0\n",
      "mlflow version: NOT INSTALLED or UNKNOWN VERSION.\n",
      "pynrrd version: NOT INSTALLED or UNKNOWN VERSION.\n",
      "clearml version: NOT INSTALLED or UNKNOWN VERSION.\n",
      "\n",
      "For details about installing the optional dependencies, please visit:\n",
      "    https://docs.monai.io/en/latest/installation.html#installing-the-recommended-dependencies\n",
      "\n"
     ]
    }
   ],
   "source": [
    "import os\n",
    "import shutil\n",
    "import tempfile\n",
    "from pathlib import Path\n",
    "\n",
    "import torch\n",
    "\n",
    "import matplotlib.pyplot as plt\n",
    "import monai\n",
    "from monai.bundle import ConfigParser\n",
    "\n",
    "# path to the bundle directory, this assumes you're running the notebook in its directory\n",
    "bundle_root = str(Path(\".\").absolute().parent)\n",
    "\n",
    "monai.config.print_config()"
   ]
  },
  {
   "cell_type": "code",
   "execution_count": 2,
   "id": "d6fc6592-cb51-4527-97ee-add5d1cdbeb4",
   "metadata": {},
   "outputs": [
    {
     "name": "stdout",
     "output_type": "stream",
     "text": [
      "/tmp/tmpbsgu3aor\n"
     ]
    }
   ],
   "source": [
    "directory = os.environ.get(\"MONAI_DATA_DIRECTORY\")\n",
    "dataset_dir = tempfile.mkdtemp() if directory is None else directory\n",
    "print(dataset_dir)"
   ]
  },
  {
   "cell_type": "code",
   "execution_count": 2,
   "id": "2dd40597-1073-4b16-b83b-a20dc7510fb2",
   "metadata": {},
   "outputs": [],
   "source": [
    "dataset_dir = \"/tmp/tmpbsgu3aor\""
   ]
  },
  {
   "cell_type": "markdown",
   "id": "5721b12a-8474-435b-aac2-c0ed054fa618",
   "metadata": {},
   "source": [
    "### Training the diffusion model"
   ]
  },
  {
   "cell_type": "markdown",
   "id": "678d2e51-dc2d-4ad9-a4c0-14a6f900398b",
   "metadata": {},
   "source": [
    "A bundle can be run on the command line using the Fire library or by parsing the configuration manually then getting parsed content objects. The following is the command to train the network for the default number of epochs. It will define values in the config files which need to be set for a particular run, such as the dataset directory created above, and setting the PYTHONPATH variable. The configuration for this bundle is split into 4 yaml files, one having common definitions for training and inference (common.yaml), one to enable multi-GPU training (train_multigpu.yaml), and one each for training (train.yaml) and inference (inference.yaml). Their combinations determine what your final configuration is, in this case the common and train files produce a training script. \n",
    "\n",
    "The dataset information is available in configs/common.yaml. The transformations to which the data is subject, which is basically the addition of a channel dimension and the scaling of the images between 0 and 1, is in each task yaml file. "
   ]
  },
  {
   "cell_type": "code",
   "execution_count": 4,
   "id": "d52a4ae9-0d6d-4bc4-a5b5-f84470711f2d",
   "metadata": {
    "scrolled": true
   },
   "outputs": [
    {
     "name": "stdout",
     "output_type": "stream",
     "text": [
      "2025-01-21 15:17:00,312 - INFO - --- input summary of monai.bundle.scripts.run ---\n",
      "2025-01-21 15:17:00,312 - INFO - > config_file: ('/data/PycharmProjects/monai-model-zoo/model-zoo/models/mednist_ddpm/configs/common.yaml',\n",
      " '/data/PycharmProjects/monai-model-zoo/model-zoo/models/mednist_ddpm/configs/train.yaml')\n",
      "2025-01-21 15:17:00,312 - INFO - > meta_file: '/data/PycharmProjects/monai-model-zoo/model-zoo/models/mednist_ddpm/configs/metadata.json'\n",
      "2025-01-21 15:17:00,312 - INFO - > logging_file: '/data/PycharmProjects/monai-model-zoo/model-zoo/models/mednist_ddpm/configs/logging.conf'\n",
      "2025-01-21 15:17:00,312 - INFO - > run_id: 'training'\n",
      "2025-01-21 15:17:00,312 - INFO - > bundle_root: '/data/PycharmProjects/monai-model-zoo/model-zoo/models/mednist_ddpm'\n",
      "2025-01-21 15:17:00,312 - INFO - > dataset_dir: '/tmp/tmpbsgu3aor'\n",
      "2025-01-21 15:17:00,312 - INFO - > output_dir: './outputs'\n",
      "2025-01-21 15:17:00,312 - INFO - ---\n",
      "\n",
      "\n",
      "2025-01-21 15:17:00,313 - INFO - Setting logging properties based on config: /data/PycharmProjects/monai-model-zoo/model-zoo/models/mednist_ddpm/configs/logging.conf.\n",
      "Detected deprecated name 'optional_packages_version' in configuration file, replacing with 'required_packages_version'.\n",
      "2025-01-21 15:17:00,441 - INFO - Verified 'MedNIST.tar.gz', md5: 0bc7306e7427e00ad1c5526a6677552d.\n",
      "2025-01-21 15:17:00,441 - INFO - File exists: /tmp/tmpbsgu3aor/MedNIST.tar.gz, skipped downloading.\n",
      "2025-01-21 15:17:00,441 - INFO - Non-empty folder exists in /tmp/tmpbsgu3aor/MedNIST, skipped extracting.\n",
      "2025-01-21 15:17:16,082 - INFO - Verified 'MedNIST.tar.gz', md5: 0bc7306e7427e00ad1c5526a6677552d.\n",
      "2025-01-21 15:17:16,082 - INFO - File exists: /tmp/tmpbsgu3aor/MedNIST.tar.gz, skipped downloading.\n",
      "2025-01-21 15:17:16,082 - INFO - Non-empty folder exists in /tmp/tmpbsgu3aor/MedNIST, skipped extracting.\n",
      "`torch.cuda.amp.GradScaler(args...)` is deprecated. Please use `torch.amp.GradScaler('cuda', args...)` instead.\n",
      "2025-01-21 15:17:18,185 - ignite.engine.engine.SupervisedTrainer - INFO - Engine run resuming from iteration 0, epoch 0 until 75 epochs\n",
      "`torch.cuda.amp.autocast(args...)` is deprecated. Please use `torch.amp.autocast('cuda', args...)` instead.\n",
      "2025-01-21 15:18:08,905 - ignite.engine.engine.SupervisedTrainer - INFO - Got new best metric of train_acc: 0.1607925146818161\n",
      "2025-01-21 15:18:08,905 - ignite.engine.engine.SupervisedTrainer - INFO - Epoch[1] Complete. Time taken: 00:00:50.720\n",
      "2025-01-21 15:18:58,567 - ignite.engine.engine.SupervisedTrainer - INFO - Got new best metric of train_acc: 0.016663629561662674\n",
      "2025-01-21 15:18:58,567 - ignite.engine.engine.SupervisedTrainer - INFO - Epoch[2] Complete. Time taken: 00:00:49.662\n",
      "2025-01-21 15:19:48,316 - ignite.engine.engine.SupervisedTrainer - INFO - Got new best metric of train_acc: 0.01578485034406185\n",
      "2025-01-21 15:19:48,316 - ignite.engine.engine.SupervisedTrainer - INFO - Epoch[3] Complete. Time taken: 00:00:49.749\n",
      "2025-01-21 15:20:37,997 - ignite.engine.engine.SupervisedTrainer - INFO - Got new best metric of train_acc: 0.013587715104222298\n",
      "2025-01-21 15:20:37,997 - ignite.engine.engine.SupervisedTrainer - INFO - Epoch[4] Complete. Time taken: 00:00:49.681\n",
      "2025-01-21 15:21:28,552 - ignite.engine.engine.SupervisedTrainer - INFO - Got new best metric of train_acc: 0.012479547411203384\n",
      "2025-01-21 15:21:28,553 - ignite.engine.engine.SupervisedEvaluator - INFO - Engine run resuming from iteration 0, epoch 4 until 5 epochs\n",
      "`torch.cuda.amp.autocast(args...)` is deprecated. Please use `torch.amp.autocast('cuda', args...)` instead.\n",
      "2025-01-21 15:21:31,907 - ignite.engine.engine.SupervisedEvaluator - INFO - Got new best metric of val_mean_abs_error: 0.05754538252949715\n",
      "2025-01-21 15:21:31,907 - INFO - Epoch[5] Metrics -- val_mean_abs_error: 0.0575 \n",
      "2025-01-21 15:21:31,907 - INFO - Key metric: val_mean_abs_error best value: 0.05754538252949715 at epoch: 5\n",
      "2025-01-21 15:21:31,907 - ignite.engine.engine.SupervisedEvaluator - INFO - Epoch[5] Complete. Time taken: 00:00:03.207\n",
      "2025-01-21 15:21:31,907 - ignite.engine.engine.SupervisedEvaluator - INFO - Engine run complete. Time taken: 00:00:03.355\n",
      "2025-01-21 15:21:31,980 - ignite.engine.engine.SupervisedTrainer - INFO - Saved checkpoint at epoch: 5\n",
      "2025-01-21 15:21:31,980 - ignite.engine.engine.SupervisedTrainer - INFO - Epoch[5] Complete. Time taken: 00:00:53.983\n",
      "2025-01-21 15:22:21,218 - ignite.engine.engine.SupervisedTrainer - INFO - Got new best metric of train_acc: 0.012240087613463402\n",
      "2025-01-21 15:22:21,219 - ignite.engine.engine.SupervisedTrainer - INFO - Epoch[6] Complete. Time taken: 00:00:49.239\n",
      "2025-01-21 15:23:10,782 - ignite.engine.engine.SupervisedTrainer - INFO - Epoch[7] Complete. Time taken: 00:00:49.563\n",
      "2025-01-21 15:24:00,732 - ignite.engine.engine.SupervisedTrainer - INFO - Epoch[8] Complete. Time taken: 00:00:49.950\n",
      "2025-01-21 15:24:50,887 - ignite.engine.engine.SupervisedTrainer - INFO - Got new best metric of train_acc: 0.01170545443892479\n",
      "2025-01-21 15:24:50,887 - ignite.engine.engine.SupervisedTrainer - INFO - Epoch[9] Complete. Time taken: 00:00:50.155\n",
      "2025-01-21 15:25:40,531 - ignite.engine.engine.SupervisedEvaluator - INFO - Engine run resuming from iteration 0, epoch 9 until 10 epochs\n",
      "2025-01-21 15:25:43,603 - ignite.engine.engine.SupervisedEvaluator - INFO - Got new best metric of val_mean_abs_error: 0.052069272845983505\n",
      "2025-01-21 15:25:43,603 - INFO - Epoch[10] Metrics -- val_mean_abs_error: 0.0521 \n",
      "2025-01-21 15:25:43,603 - INFO - Key metric: val_mean_abs_error best value: 0.052069272845983505 at epoch: 10\n",
      "2025-01-21 15:25:43,603 - ignite.engine.engine.SupervisedEvaluator - INFO - Epoch[10] Complete. Time taken: 00:00:03.072\n",
      "2025-01-21 15:25:43,603 - ignite.engine.engine.SupervisedEvaluator - INFO - Engine run complete. Time taken: 00:00:03.072\n",
      "2025-01-21 15:25:43,960 - ignite.engine.engine.SupervisedTrainer - INFO - Saved checkpoint at epoch: 10\n",
      "2025-01-21 15:25:43,961 - ignite.engine.engine.SupervisedTrainer - INFO - Epoch[10] Complete. Time taken: 00:00:53.074\n",
      "2025-01-21 15:26:34,387 - ignite.engine.engine.SupervisedTrainer - INFO - Got new best metric of train_acc: 0.011470048688352108\n",
      "2025-01-21 15:26:34,387 - ignite.engine.engine.SupervisedTrainer - INFO - Epoch[11] Complete. Time taken: 00:00:50.426\n",
      "2025-01-21 15:27:24,763 - ignite.engine.engine.SupervisedTrainer - INFO - Got new best metric of train_acc: 0.010766257531940937\n",
      "2025-01-21 15:27:24,763 - ignite.engine.engine.SupervisedTrainer - INFO - Epoch[12] Complete. Time taken: 00:00:50.377\n",
      "2025-01-21 15:28:15,715 - ignite.engine.engine.SupervisedTrainer - INFO - Epoch[13] Complete. Time taken: 00:00:50.951\n",
      "2025-01-21 15:29:05,690 - ignite.engine.engine.SupervisedTrainer - INFO - Got new best metric of train_acc: 0.010334153659641743\n",
      "2025-01-21 15:29:05,690 - ignite.engine.engine.SupervisedTrainer - INFO - Epoch[14] Complete. Time taken: 00:00:49.975\n",
      "2025-01-21 15:29:55,818 - ignite.engine.engine.SupervisedEvaluator - INFO - Engine run resuming from iteration 0, epoch 14 until 15 epochs\n",
      "2025-01-21 15:29:58,960 - ignite.engine.engine.SupervisedEvaluator - INFO - Got new best metric of val_mean_abs_error: 0.04713250324130058\n",
      "2025-01-21 15:29:58,960 - INFO - Epoch[15] Metrics -- val_mean_abs_error: 0.0471 \n",
      "2025-01-21 15:29:58,960 - INFO - Key metric: val_mean_abs_error best value: 0.04713250324130058 at epoch: 15\n",
      "2025-01-21 15:29:58,960 - ignite.engine.engine.SupervisedEvaluator - INFO - Epoch[15] Complete. Time taken: 00:00:03.142\n",
      "2025-01-21 15:29:58,960 - ignite.engine.engine.SupervisedEvaluator - INFO - Engine run complete. Time taken: 00:00:03.142\n",
      "2025-01-21 15:29:59,330 - ignite.engine.engine.SupervisedTrainer - INFO - Saved checkpoint at epoch: 15\n",
      "2025-01-21 15:29:59,330 - ignite.engine.engine.SupervisedTrainer - INFO - Epoch[15] Complete. Time taken: 00:00:53.640\n",
      "2025-01-21 15:30:49,286 - ignite.engine.engine.SupervisedTrainer - INFO - Got new best metric of train_acc: 0.010036583058536053\n",
      "2025-01-21 15:30:49,286 - ignite.engine.engine.SupervisedTrainer - INFO - Epoch[16] Complete. Time taken: 00:00:49.956\n",
      "2025-01-21 15:31:38,546 - ignite.engine.engine.SupervisedTrainer - INFO - Epoch[17] Complete. Time taken: 00:00:49.260\n",
      "2025-01-21 15:32:29,131 - ignite.engine.engine.SupervisedTrainer - INFO - Epoch[18] Complete. Time taken: 00:00:50.584\n",
      "2025-01-21 15:33:19,252 - ignite.engine.engine.SupervisedTrainer - INFO - Got new best metric of train_acc: 0.010024736635386944\n",
      "2025-01-21 15:33:19,253 - ignite.engine.engine.SupervisedTrainer - INFO - Epoch[19] Complete. Time taken: 00:00:50.122\n",
      "2025-01-21 15:34:09,452 - ignite.engine.engine.SupervisedEvaluator - INFO - Engine run resuming from iteration 0, epoch 19 until 20 epochs\n",
      "2025-01-21 15:34:12,633 - ignite.engine.engine.SupervisedEvaluator - INFO - Got new best metric of val_mean_abs_error: 0.04626006633043289\n",
      "2025-01-21 15:34:12,633 - INFO - Epoch[20] Metrics -- val_mean_abs_error: 0.0463 \n",
      "2025-01-21 15:34:12,633 - INFO - Key metric: val_mean_abs_error best value: 0.04626006633043289 at epoch: 20\n",
      "2025-01-21 15:34:12,634 - ignite.engine.engine.SupervisedEvaluator - INFO - Epoch[20] Complete. Time taken: 00:00:03.181\n",
      "2025-01-21 15:34:12,634 - ignite.engine.engine.SupervisedEvaluator - INFO - Engine run complete. Time taken: 00:00:03.181\n",
      "2025-01-21 15:34:13,009 - ignite.engine.engine.SupervisedTrainer - INFO - Saved checkpoint at epoch: 20\n",
      "2025-01-21 15:34:13,010 - ignite.engine.engine.SupervisedTrainer - INFO - Epoch[20] Complete. Time taken: 00:00:53.757\n",
      "2025-01-21 15:35:02,975 - ignite.engine.engine.SupervisedTrainer - INFO - Epoch[21] Complete. Time taken: 00:00:49.965\n",
      "2025-01-21 15:35:52,881 - ignite.engine.engine.SupervisedTrainer - INFO - Got new best metric of train_acc: 0.010010532103478909\n",
      "2025-01-21 15:35:52,881 - ignite.engine.engine.SupervisedTrainer - INFO - Epoch[22] Complete. Time taken: 00:00:49.906\n",
      "2025-01-21 15:36:42,704 - ignite.engine.engine.SupervisedTrainer - INFO - Got new best metric of train_acc: 0.0098584508523345\n",
      "2025-01-21 15:36:42,704 - ignite.engine.engine.SupervisedTrainer - INFO - Epoch[23] Complete. Time taken: 00:00:49.823\n",
      "2025-01-21 15:37:32,855 - ignite.engine.engine.SupervisedTrainer - INFO - Epoch[24] Complete. Time taken: 00:00:50.151\n",
      "2025-01-21 15:38:22,864 - ignite.engine.engine.SupervisedEvaluator - INFO - Engine run resuming from iteration 0, epoch 24 until 25 epochs\n",
      "2025-01-21 15:38:26,081 - INFO - Epoch[25] Metrics -- val_mean_abs_error: 0.0496 \n",
      "2025-01-21 15:38:26,081 - INFO - Key metric: val_mean_abs_error best value: 0.04626006633043289 at epoch: 20\n",
      "2025-01-21 15:38:26,081 - ignite.engine.engine.SupervisedEvaluator - INFO - Epoch[25] Complete. Time taken: 00:00:03.217\n",
      "2025-01-21 15:38:26,081 - ignite.engine.engine.SupervisedEvaluator - INFO - Engine run complete. Time taken: 00:00:03.217\n",
      "2025-01-21 15:38:26,449 - ignite.engine.engine.SupervisedTrainer - INFO - Saved checkpoint at epoch: 25\n",
      "2025-01-21 15:38:26,449 - ignite.engine.engine.SupervisedTrainer - INFO - Epoch[25] Complete. Time taken: 00:00:53.594\n",
      "2025-01-21 15:39:16,354 - ignite.engine.engine.SupervisedTrainer - INFO - Got new best metric of train_acc: 0.00983799621462822\n",
      "2025-01-21 15:39:16,354 - ignite.engine.engine.SupervisedTrainer - INFO - Epoch[26] Complete. Time taken: 00:00:49.905\n",
      "2025-01-21 15:40:06,370 - ignite.engine.engine.SupervisedTrainer - INFO - Got new best metric of train_acc: 0.009661602787673473\n",
      "2025-01-21 15:40:06,370 - ignite.engine.engine.SupervisedTrainer - INFO - Epoch[27] Complete. Time taken: 00:00:50.016\n",
      "2025-01-21 15:40:56,154 - ignite.engine.engine.SupervisedTrainer - INFO - Epoch[28] Complete. Time taken: 00:00:49.784\n",
      "2025-01-21 15:41:46,556 - ignite.engine.engine.SupervisedTrainer - INFO - Epoch[29] Complete. Time taken: 00:00:50.402\n",
      "2025-01-21 15:42:36,634 - ignite.engine.engine.SupervisedEvaluator - INFO - Engine run resuming from iteration 0, epoch 29 until 30 epochs\n",
      "2025-01-21 15:42:39,699 - INFO - Epoch[30] Metrics -- val_mean_abs_error: 0.0470 \n",
      "2025-01-21 15:42:39,699 - INFO - Key metric: val_mean_abs_error best value: 0.04626006633043289 at epoch: 20\n",
      "2025-01-21 15:42:39,699 - ignite.engine.engine.SupervisedEvaluator - INFO - Epoch[30] Complete. Time taken: 00:00:03.064\n",
      "2025-01-21 15:42:39,699 - ignite.engine.engine.SupervisedEvaluator - INFO - Engine run complete. Time taken: 00:00:03.064\n",
      "2025-01-21 15:42:40,067 - ignite.engine.engine.SupervisedTrainer - INFO - Saved checkpoint at epoch: 30\n",
      "2025-01-21 15:42:40,067 - ignite.engine.engine.SupervisedTrainer - INFO - Epoch[30] Complete. Time taken: 00:00:53.511\n",
      "2025-01-21 15:43:30,284 - ignite.engine.engine.SupervisedTrainer - INFO - Got new best metric of train_acc: 0.00965067371726036\n",
      "2025-01-21 15:43:30,284 - ignite.engine.engine.SupervisedTrainer - INFO - Epoch[31] Complete. Time taken: 00:00:50.217\n",
      "2025-01-21 15:44:20,682 - ignite.engine.engine.SupervisedTrainer - INFO - Got new best metric of train_acc: 0.009442757815122604\n",
      "2025-01-21 15:44:20,682 - ignite.engine.engine.SupervisedTrainer - INFO - Epoch[32] Complete. Time taken: 00:00:50.397\n",
      "2025-01-21 15:45:09,972 - ignite.engine.engine.SupervisedTrainer - INFO - Got new best metric of train_acc: 0.008967726491391659\n",
      "2025-01-21 15:45:09,972 - ignite.engine.engine.SupervisedTrainer - INFO - Epoch[33] Complete. Time taken: 00:00:49.290\n",
      "2025-01-21 15:46:00,287 - ignite.engine.engine.SupervisedTrainer - INFO - Epoch[34] Complete. Time taken: 00:00:50.315\n",
      "2025-01-21 15:46:50,509 - ignite.engine.engine.SupervisedEvaluator - INFO - Engine run resuming from iteration 0, epoch 34 until 35 epochs\n",
      "2025-01-21 15:46:53,651 - ignite.engine.engine.SupervisedEvaluator - INFO - Got new best metric of val_mean_abs_error: 0.04337985813617706\n",
      "2025-01-21 15:46:53,651 - INFO - Epoch[35] Metrics -- val_mean_abs_error: 0.0434 \n",
      "2025-01-21 15:46:53,651 - INFO - Key metric: val_mean_abs_error best value: 0.04337985813617706 at epoch: 35\n",
      "2025-01-21 15:46:53,651 - ignite.engine.engine.SupervisedEvaluator - INFO - Epoch[35] Complete. Time taken: 00:00:03.141\n",
      "2025-01-21 15:46:53,652 - ignite.engine.engine.SupervisedEvaluator - INFO - Engine run complete. Time taken: 00:00:03.142\n",
      "2025-01-21 15:46:54,014 - ignite.engine.engine.SupervisedTrainer - INFO - Saved checkpoint at epoch: 35\n",
      "2025-01-21 15:46:54,015 - ignite.engine.engine.SupervisedTrainer - INFO - Epoch[35] Complete. Time taken: 00:00:53.728\n",
      "2025-01-21 15:47:43,700 - ignite.engine.engine.SupervisedTrainer - INFO - Epoch[36] Complete. Time taken: 00:00:49.685\n",
      "2025-01-21 15:48:33,567 - ignite.engine.engine.SupervisedTrainer - INFO - Epoch[37] Complete. Time taken: 00:00:49.867\n",
      "2025-01-21 15:49:24,261 - ignite.engine.engine.SupervisedTrainer - INFO - Epoch[38] Complete. Time taken: 00:00:50.694\n",
      "2025-01-21 15:50:14,440 - ignite.engine.engine.SupervisedTrainer - INFO - Epoch[39] Complete. Time taken: 00:00:50.178\n",
      "2025-01-21 15:51:04,645 - ignite.engine.engine.SupervisedEvaluator - INFO - Engine run resuming from iteration 0, epoch 39 until 40 epochs\n",
      "2025-01-21 15:51:07,744 - INFO - Epoch[40] Metrics -- val_mean_abs_error: 0.0438 \n",
      "2025-01-21 15:51:07,744 - INFO - Key metric: val_mean_abs_error best value: 0.04337985813617706 at epoch: 35\n",
      "2025-01-21 15:51:07,744 - ignite.engine.engine.SupervisedEvaluator - INFO - Epoch[40] Complete. Time taken: 00:00:03.098\n",
      "2025-01-21 15:51:07,744 - ignite.engine.engine.SupervisedEvaluator - INFO - Engine run complete. Time taken: 00:00:03.099\n",
      "2025-01-21 15:51:08,102 - ignite.engine.engine.SupervisedTrainer - INFO - Saved checkpoint at epoch: 40\n",
      "2025-01-21 15:51:08,102 - ignite.engine.engine.SupervisedTrainer - INFO - Epoch[40] Complete. Time taken: 00:00:53.662\n",
      "2025-01-21 15:51:58,081 - ignite.engine.engine.SupervisedTrainer - INFO - Epoch[41] Complete. Time taken: 00:00:49.979\n",
      "2025-01-21 15:52:47,658 - ignite.engine.engine.SupervisedTrainer - INFO - Epoch[42] Complete. Time taken: 00:00:49.577\n",
      "2025-01-21 15:53:37,196 - ignite.engine.engine.SupervisedTrainer - INFO - Epoch[43] Complete. Time taken: 00:00:49.538\n",
      "2025-01-21 15:54:27,401 - ignite.engine.engine.SupervisedTrainer - INFO - Epoch[44] Complete. Time taken: 00:00:50.205\n",
      "2025-01-21 15:55:17,782 - ignite.engine.engine.SupervisedEvaluator - INFO - Engine run resuming from iteration 0, epoch 44 until 45 epochs\n",
      "2025-01-21 15:55:20,968 - ignite.engine.engine.SupervisedEvaluator - INFO - Got new best metric of val_mean_abs_error: 0.04306837171316147\n",
      "2025-01-21 15:55:20,968 - INFO - Epoch[45] Metrics -- val_mean_abs_error: 0.0431 \n",
      "2025-01-21 15:55:20,968 - INFO - Key metric: val_mean_abs_error best value: 0.04306837171316147 at epoch: 45\n",
      "2025-01-21 15:55:20,968 - ignite.engine.engine.SupervisedEvaluator - INFO - Epoch[45] Complete. Time taken: 00:00:03.185\n",
      "2025-01-21 15:55:20,968 - ignite.engine.engine.SupervisedEvaluator - INFO - Engine run complete. Time taken: 00:00:03.186\n",
      "2025-01-21 15:55:21,331 - ignite.engine.engine.SupervisedTrainer - INFO - Saved checkpoint at epoch: 45\n",
      "2025-01-21 15:55:21,332 - ignite.engine.engine.SupervisedTrainer - INFO - Epoch[45] Complete. Time taken: 00:00:53.931\n",
      "2025-01-21 15:56:11,303 - ignite.engine.engine.SupervisedTrainer - INFO - Epoch[46] Complete. Time taken: 00:00:49.971\n",
      "2025-01-21 15:57:01,472 - ignite.engine.engine.SupervisedTrainer - INFO - Epoch[47] Complete. Time taken: 00:00:50.170\n",
      "2025-01-21 15:57:51,853 - ignite.engine.engine.SupervisedTrainer - INFO - Epoch[48] Complete. Time taken: 00:00:50.380\n",
      "2025-01-21 15:58:41,820 - ignite.engine.engine.SupervisedTrainer - INFO - Epoch[49] Complete. Time taken: 00:00:49.968\n",
      "2025-01-21 15:59:30,957 - ignite.engine.engine.SupervisedEvaluator - INFO - Engine run resuming from iteration 0, epoch 49 until 50 epochs\n",
      "2025-01-21 15:59:34,146 - ignite.engine.engine.SupervisedEvaluator - INFO - Got new best metric of val_mean_abs_error: 0.0430283285677433\n",
      "2025-01-21 15:59:34,146 - INFO - Epoch[50] Metrics -- val_mean_abs_error: 0.0430 \n",
      "2025-01-21 15:59:34,146 - INFO - Key metric: val_mean_abs_error best value: 0.0430283285677433 at epoch: 50\n",
      "2025-01-21 15:59:34,146 - ignite.engine.engine.SupervisedEvaluator - INFO - Epoch[50] Complete. Time taken: 00:00:03.188\n",
      "2025-01-21 15:59:34,146 - ignite.engine.engine.SupervisedEvaluator - INFO - Engine run complete. Time taken: 00:00:03.189\n",
      "2025-01-21 15:59:34,509 - ignite.engine.engine.SupervisedTrainer - INFO - Saved checkpoint at epoch: 50\n",
      "2025-01-21 15:59:34,510 - ignite.engine.engine.SupervisedTrainer - INFO - Epoch[50] Complete. Time taken: 00:00:52.689\n",
      "2025-01-21 16:00:23,913 - ignite.engine.engine.SupervisedTrainer - INFO - Epoch[51] Complete. Time taken: 00:00:49.403\n",
      "2025-01-21 16:01:13,649 - ignite.engine.engine.SupervisedTrainer - INFO - Got new best metric of train_acc: 0.008929001167416573\n",
      "2025-01-21 16:01:13,649 - ignite.engine.engine.SupervisedTrainer - INFO - Epoch[52] Complete. Time taken: 00:00:49.736\n",
      "2025-01-21 16:02:03,775 - ignite.engine.engine.SupervisedTrainer - INFO - Got new best metric of train_acc: 0.008782487362623215\n",
      "2025-01-21 16:02:03,775 - ignite.engine.engine.SupervisedTrainer - INFO - Epoch[53] Complete. Time taken: 00:00:50.125\n",
      "2025-01-21 16:02:53,273 - ignite.engine.engine.SupervisedTrainer - INFO - Got new best metric of train_acc: 0.008487475104629993\n",
      "2025-01-21 16:02:53,273 - ignite.engine.engine.SupervisedTrainer - INFO - Epoch[54] Complete. Time taken: 00:00:49.498\n",
      "2025-01-21 16:03:43,201 - ignite.engine.engine.SupervisedEvaluator - INFO - Engine run resuming from iteration 0, epoch 54 until 55 epochs\n",
      "2025-01-21 16:03:46,321 - INFO - Epoch[55] Metrics -- val_mean_abs_error: 0.0439 \n",
      "2025-01-21 16:03:46,322 - INFO - Key metric: val_mean_abs_error best value: 0.0430283285677433 at epoch: 50\n",
      "2025-01-21 16:03:46,322 - ignite.engine.engine.SupervisedEvaluator - INFO - Epoch[55] Complete. Time taken: 00:00:03.119\n",
      "2025-01-21 16:03:46,322 - ignite.engine.engine.SupervisedEvaluator - INFO - Engine run complete. Time taken: 00:00:03.120\n",
      "2025-01-21 16:03:46,686 - ignite.engine.engine.SupervisedTrainer - INFO - Saved checkpoint at epoch: 55\n",
      "2025-01-21 16:03:46,687 - ignite.engine.engine.SupervisedTrainer - INFO - Epoch[55] Complete. Time taken: 00:00:53.414\n",
      "2025-01-21 16:04:36,199 - ignite.engine.engine.SupervisedTrainer - INFO - Epoch[56] Complete. Time taken: 00:00:49.513\n",
      "2025-01-21 16:05:25,939 - ignite.engine.engine.SupervisedTrainer - INFO - Epoch[57] Complete. Time taken: 00:00:49.740\n",
      "2025-01-21 16:06:16,157 - ignite.engine.engine.SupervisedTrainer - INFO - Epoch[58] Complete. Time taken: 00:00:50.218\n",
      "2025-01-21 16:07:05,446 - ignite.engine.engine.SupervisedTrainer - INFO - Epoch[59] Complete. Time taken: 00:00:49.289\n",
      "2025-01-21 16:07:55,170 - ignite.engine.engine.SupervisedEvaluator - INFO - Engine run resuming from iteration 0, epoch 59 until 60 epochs\n",
      "2025-01-21 16:07:58,417 - ignite.engine.engine.SupervisedEvaluator - INFO - Got new best metric of val_mean_abs_error: 0.041947875171899796\n",
      "2025-01-21 16:07:58,417 - INFO - Epoch[60] Metrics -- val_mean_abs_error: 0.0419 \n",
      "2025-01-21 16:07:58,417 - INFO - Key metric: val_mean_abs_error best value: 0.041947875171899796 at epoch: 60\n",
      "2025-01-21 16:07:58,417 - ignite.engine.engine.SupervisedEvaluator - INFO - Epoch[60] Complete. Time taken: 00:00:03.247\n",
      "2025-01-21 16:07:58,417 - ignite.engine.engine.SupervisedEvaluator - INFO - Engine run complete. Time taken: 00:00:03.248\n",
      "2025-01-21 16:07:58,777 - ignite.engine.engine.SupervisedTrainer - INFO - Saved checkpoint at epoch: 60\n",
      "2025-01-21 16:07:58,777 - ignite.engine.engine.SupervisedTrainer - INFO - Epoch[60] Complete. Time taken: 00:00:53.331\n",
      "2025-01-21 16:08:49,052 - ignite.engine.engine.SupervisedTrainer - INFO - Epoch[61] Complete. Time taken: 00:00:50.275\n",
      "2025-01-21 16:09:39,838 - ignite.engine.engine.SupervisedTrainer - INFO - Epoch[62] Complete. Time taken: 00:00:50.785\n",
      "2025-01-21 16:10:30,140 - ignite.engine.engine.SupervisedTrainer - INFO - Epoch[63] Complete. Time taken: 00:00:50.303\n",
      "2025-01-21 16:11:20,742 - ignite.engine.engine.SupervisedTrainer - INFO - Epoch[64] Complete. Time taken: 00:00:50.601\n",
      "2025-01-21 16:12:11,106 - ignite.engine.engine.SupervisedEvaluator - INFO - Engine run resuming from iteration 0, epoch 64 until 65 epochs\n",
      "2025-01-21 16:12:14,362 - ignite.engine.engine.SupervisedEvaluator - INFO - Got new best metric of val_mean_abs_error: 0.03936021775007248\n",
      "2025-01-21 16:12:14,362 - INFO - Epoch[65] Metrics -- val_mean_abs_error: 0.0394 \n",
      "2025-01-21 16:12:14,362 - INFO - Key metric: val_mean_abs_error best value: 0.03936021775007248 at epoch: 65\n",
      "2025-01-21 16:12:14,362 - ignite.engine.engine.SupervisedEvaluator - INFO - Epoch[65] Complete. Time taken: 00:00:03.255\n",
      "2025-01-21 16:12:14,362 - ignite.engine.engine.SupervisedEvaluator - INFO - Engine run complete. Time taken: 00:00:03.256\n",
      "2025-01-21 16:12:14,722 - ignite.engine.engine.SupervisedTrainer - INFO - Saved checkpoint at epoch: 65\n",
      "2025-01-21 16:12:14,722 - ignite.engine.engine.SupervisedTrainer - INFO - Epoch[65] Complete. Time taken: 00:00:53.980\n",
      "2025-01-21 16:13:05,332 - ignite.engine.engine.SupervisedTrainer - INFO - Epoch[66] Complete. Time taken: 00:00:50.610\n",
      "2025-01-21 16:13:55,536 - ignite.engine.engine.SupervisedTrainer - INFO - Epoch[67] Complete. Time taken: 00:00:50.204\n",
      "2025-01-21 16:14:45,787 - ignite.engine.engine.SupervisedTrainer - INFO - Epoch[68] Complete. Time taken: 00:00:50.251\n",
      "2025-01-21 16:15:35,860 - ignite.engine.engine.SupervisedTrainer - INFO - Epoch[69] Complete. Time taken: 00:00:50.073\n",
      "2025-01-21 16:16:26,467 - ignite.engine.engine.SupervisedEvaluator - INFO - Engine run resuming from iteration 0, epoch 69 until 70 epochs\n",
      "2025-01-21 16:16:29,726 - INFO - Epoch[70] Metrics -- val_mean_abs_error: 0.0419 \n",
      "2025-01-21 16:16:29,726 - INFO - Key metric: val_mean_abs_error best value: 0.03936021775007248 at epoch: 65\n",
      "2025-01-21 16:16:29,726 - ignite.engine.engine.SupervisedEvaluator - INFO - Epoch[70] Complete. Time taken: 00:00:03.258\n",
      "2025-01-21 16:16:29,726 - ignite.engine.engine.SupervisedEvaluator - INFO - Engine run complete. Time taken: 00:00:03.259\n",
      "2025-01-21 16:16:30,089 - ignite.engine.engine.SupervisedTrainer - INFO - Saved checkpoint at epoch: 70\n",
      "2025-01-21 16:16:30,090 - ignite.engine.engine.SupervisedTrainer - INFO - Epoch[70] Complete. Time taken: 00:00:54.230\n",
      "2025-01-21 16:17:20,037 - ignite.engine.engine.SupervisedTrainer - INFO - Epoch[71] Complete. Time taken: 00:00:49.947\n",
      "2025-01-21 16:18:09,870 - ignite.engine.engine.SupervisedTrainer - INFO - Epoch[72] Complete. Time taken: 00:00:49.833\n",
      "2025-01-21 16:19:00,519 - ignite.engine.engine.SupervisedTrainer - INFO - Epoch[73] Complete. Time taken: 00:00:50.649\n",
      "2025-01-21 16:19:51,690 - ignite.engine.engine.SupervisedTrainer - INFO - Epoch[74] Complete. Time taken: 00:00:51.171\n",
      "2025-01-21 16:20:44,185 - ignite.engine.engine.SupervisedTrainer - INFO - Got new best metric of train_acc: 0.008344339206814766\n",
      "2025-01-21 16:20:44,185 - ignite.engine.engine.SupervisedEvaluator - INFO - Engine run resuming from iteration 0, epoch 74 until 75 epochs\n",
      "2025-01-21 16:20:47,299 - INFO - Epoch[75] Metrics -- val_mean_abs_error: 0.0419 \n",
      "2025-01-21 16:20:47,299 - INFO - Key metric: val_mean_abs_error best value: 0.03936021775007248 at epoch: 65\n",
      "2025-01-21 16:20:47,299 - ignite.engine.engine.SupervisedEvaluator - INFO - Epoch[75] Complete. Time taken: 00:00:03.113\n",
      "2025-01-21 16:20:47,299 - ignite.engine.engine.SupervisedEvaluator - INFO - Engine run complete. Time taken: 00:00:03.114\n",
      "2025-01-21 16:20:47,370 - ignite.engine.engine.SupervisedTrainer - INFO - Saved checkpoint at epoch: 75\n",
      "2025-01-21 16:20:47,370 - ignite.engine.engine.SupervisedTrainer - INFO - Epoch[75] Complete. Time taken: 00:00:55.680\n",
      "2025-01-21 16:20:47,404 - ignite.engine.engine.SupervisedTrainer - INFO - Train completed, saved final checkpoint: outputs/model_final_iteration=75000.pt\n",
      "2025-01-21 16:20:47,404 - ignite.engine.engine.SupervisedTrainer - INFO - Engine run complete. Time taken: 01:03:29.219\n"
     ]
    }
   ],
   "source": [
    "# multiple config files need to be specified this way with '' quotes, variable used in command line must be in \"\" quotes\n",
    "configs=f\"'{bundle_root}/configs/common.yaml', '{bundle_root}/configs/train.yaml'\"\n",
    "!PYTHONPATH={bundle_root} python -m monai.bundle run training \\\n",
    "    --meta_file {bundle_root}/configs/metadata.json \\\n",
    "    --config_file \"{configs}\" \\\n",
    "    --logging_file {bundle_root}/configs/logging.conf \\\n",
    "    --bundle_root {bundle_root} \\\n",
    "    --dataset_dir {dataset_dir} \\\n",
    "    --output_dir './outputs'"
   ]
  },
  {
   "cell_type": "markdown",
   "id": "f872fccf-12af-43ef-bdb5-f49bc74119fa",
   "metadata": {},
   "source": [
    "### Test the diffusion model"
   ]
  },
  {
   "cell_type": "markdown",
   "id": "5030732c-deb5-448a-b575-385bda0fa308",
   "metadata": {},
   "source": [
    "The test inference script can then be invoked as such to produce an output tensor saved to the given file with a randomly generated image. The `ckpt_path` value should point to the final checkpoint file created during the above training run which will be in a subdirectory of `./results`. The training script's default behaviour is to create a new timestamped subdirectory in `./results` for every new run, this can be explicitly set by providing a `output_dir` value on the command line."
   ]
  },
  {
   "cell_type": "code",
   "execution_count": 8,
   "id": "40e6a3e9-3984-44b0-ba9a-5b8d58c7ea2d",
   "metadata": {},
   "outputs": [
    {
     "name": "stdout",
     "output_type": "stream",
     "text": [
      "2025-01-21 16:26:26,051 - INFO - --- input summary of monai.bundle.scripts.run ---\n",
      "2025-01-21 16:26:26,051 - INFO - > config_file: ('/data/PycharmProjects/monai-model-zoo/model-zoo/models/mednist_ddpm/configs/common.yaml',\n",
      " '/data/PycharmProjects/monai-model-zoo/model-zoo/models/mednist_ddpm/configs/infer.yaml')\n",
      "2025-01-21 16:26:26,051 - INFO - > meta_file: '/data/PycharmProjects/monai-model-zoo/model-zoo/models/mednist_ddpm/configs/metadata.json'\n",
      "2025-01-21 16:26:26,051 - INFO - > run_id: 'testing'\n",
      "2025-01-21 16:26:26,051 - INFO - > ckpt_path: './outputs/model_final_iteration=75000.pt'\n",
      "2025-01-21 16:26:26,051 - INFO - > bundle_root: '/data/PycharmProjects/monai-model-zoo/model-zoo/models/mednist_ddpm'\n",
      "2025-01-21 16:26:26,051 - INFO - > out_file: 'test.pt'\n",
      "2025-01-21 16:26:26,051 - INFO - ---\n",
      "\n",
      "\n",
      "2025-01-21 16:26:26,051 - INFO - Setting logging properties based on config: /data/PycharmProjects/monai-model-zoo/model-zoo/models/mednist_ddpm/configs/logging.conf.\n",
      "Detected deprecated name 'optional_packages_version' in configuration file, replacing with 'required_packages_version'.\n",
      "100%|██████████████████████████████████████| 1000/1000 [00:08<00:00, 114.77it/s]\n"
     ]
    },
    {
     "name": "stderr",
     "output_type": "stream",
     "text": [
      "You are using `torch.load` with `weights_only=False` (the current default value), which uses the default pickle module implicitly. It is possible to construct malicious pickle data which will execute arbitrary code during unpickling (See https://github.com/pytorch/pytorch/blob/main/SECURITY.md#untrusted-models for more details). In a future release, the default value for `weights_only` will be flipped to `True`. This limits the functions that could be executed during unpickling. Arbitrary objects will no longer be allowed to be loaded via this mode unless they are explicitly allowlisted by the user via `torch.serialization.add_safe_globals`. We recommend you start setting `weights_only=True` for any use case where you don't have full control of the loaded file. Please open an issue on GitHub for any issues related to this experimental feature.\n"
     ]
    },
    {
     "data": {
      "text/plain": [
       "<matplotlib.image.AxesImage at 0x7fe759d48e80>"
      ]
     },
     "execution_count": 8,
     "metadata": {},
     "output_type": "execute_result"
    },
    {
     "data": {
      "image/png": "[encoded data removed]",
      "text/plain": [
       "<Figure size 640x480 with 1 Axes>"
      ]
     },
     "metadata": {},
     "output_type": "display_data"
    }
   ],
   "source": [
    "configs=f\"'{bundle_root}/configs/common.yaml', '{bundle_root}/configs/infer.yaml'\"\n",
    "\n",
    "!PYTHONPATH={bundle_root} python -m monai.bundle run testing \\\n",
    "    --meta_file {bundle_root}/configs/metadata.json \\\n",
    "    --config_file \"{configs}\" \\\n",
    "    --ckpt_path \"./outputs/model_final_iteration=75000.pt\" \\\n",
    "    --bundle_root {bundle_root} \\\n",
    "    --out_file test.pt\n",
    "\n",
    "test = torch.load(\"test.pt\", map_location=\"cpu\")\n",
    "\n",
    "plt.imshow(test[0, 0], vmin=0.3, vmax=1.0, cmap=\"gray\")"
   ]
  },
  {
   "cell_type": "markdown",
   "id": "f581c36e-4033-4005-8969-76205470588e",
   "metadata": {},
   "source": [
    "The same can be done by creating the parser object, filling in its configuration, then resolving the Python objects from the constructed bundle data:"
   ]
  },
  {
   "cell_type": "code",
   "execution_count": 11,
   "id": "cf8438b3-4c7d-48c4-bb41-ed7def73753f",
   "metadata": {},
   "outputs": [
    {
     "name": "stderr",
     "output_type": "stream",
     "text": [
      "100%|███████████████████████████████████████████████████████████████████████████████████████████████████████████████████████████████████████████████████████████████████████████████████████████████████████████████████████████████| 1000/1000 [00:08<00:00, 116.83it/s]\n"
     ]
    },
    {
     "data": {
      "text/plain": [
       "<matplotlib.image.AxesImage at 0x7fe6fce36d40>"
      ]
     },
     "execution_count": 11,
     "metadata": {},
     "output_type": "execute_result"
    },
    {
     "data": {
      "image/png": "[encoded data removed]",
      "text/plain": [
       "<Figure size 640x480 with 1 Axes>"
      ]
     },
     "metadata": {},
     "output_type": "display_data"
    }
   ],
   "source": [
    "import sys\n",
    "\n",
    "sys.path.append(bundle_root)  # make sure we load the script files we need\n",
    "\n",
    "# configure the parser from the bundle's information\n",
    "cp = ConfigParser()\n",
    "cp.read_meta(f\"{bundle_root}/configs/metadata.json\")\n",
    "cp.read_config([f\"{bundle_root}/configs/common.yaml\", f\"{bundle_root}/configs/infer.yaml\"])\n",
    "cp[\"bundle_root\"] = bundle_root\n",
    "cp[\"ckpt_path\"] = f\"./outputs/model_final_iteration=75000.pt\"\n",
    "\n",
    "cp.get_parsed_content(\"load_state\")  # load the saved state from the checkpoint just be resolving this value\n",
    "\n",
    "device = cp.get_parsed_content(\"device\")  # device used by the bundle\n",
    "sample = cp.get_parsed_content(\"sample\")  # test sampling function\n",
    "\n",
    "image_dim = cp[\"image_dim\"]  # get the stored dimension value, no need to resolve anything\n",
    "\n",
    "noise = torch.rand(1, 1, image_dim, image_dim).to(device)  # or cp.get_parsed_content(\"noise\")\n",
    "\n",
    "test = sample(noise)\n",
    "\n",
    "plt.imshow(test[0, 0].cpu(), vmin=0.3, vmax=1, cmap=\"gray\")"
   ]
  },
  {
   "cell_type": "markdown",
   "id": "2feab4e5-2745-4d35-9eec-a2bb8340cf51",
   "metadata": {},
   "source": [
    "Multi-GPU can be enabled by including the `train_multigpu.yaml` configuration file:"
   ]
  },
  {
   "cell_type": "code",
   "execution_count": null,
   "id": "173cda1c-ac90-410f-b34d-b6cbb0044c7a",
   "metadata": {},
   "outputs": [],
   "source": [
    "configs=f\"'{bundle_root}/configs/common.yaml', '{bundle_root}/configs/train.yaml', '{bundle_root}/configs/train_multigpu.yaml'\"\n",
    "\n",
    "!PYTHONPATH={bundle_root} torchrun --standalone --nnodes=1 --nproc_per_node=2 -m monai.bundle run training \\\n",
    "    --meta_file {bundle_root}/configs/metadata.json \\\n",
    "    --config_file \"{configs}\" \\\n",
    "    --logging_file {bundle_root}/configs/logging.conf \\\n",
    "    --bundle_root {bundle_root} \\\n",
    "    --dataset_dir {dataset_dir}"
   ]
  },
  {
   "cell_type": "code",
   "execution_count": null,
   "id": "cb719023-8250-43c4-ab10-911829332498",
   "metadata": {},
   "outputs": [],
   "source": [
    "if directory is None:\n",
    "    shutil.rmtree(dataset_dir)"
   ]
  }
 ],
 "metadata": {
  "kernelspec": {
   "display_name": "Python 3 (ipykernel)",
   "language": "python",
   "name": "python3"
  },
  "language_info": {
   "codemirror_mode": {
    "name": "ipython",
    "version": 3
   },
   "file_extension": ".py",
   "mimetype": "text/x-python",
   "name": "python",
   "nbconvert_exporter": "python",
   "pygments_lexer": "ipython3",
   "version": "3.10.15"
  }
 },
 "nbformat": 4,
 "nbformat_minor": 5
}
